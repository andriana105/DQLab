{
 "cells": [
  {
   "cell_type": "markdown",
   "metadata": {},
   "source": [
    "# Penggabungan Series/Dataframe\n",
    "## Bagaimana Cara Menggabungkan Pandas Series/Dataframe?\n",
    "Sebagai seorang praktisi data, pasti sering kali bertemu dengan banyak file sekaligus dan data yang dibutuhkan tersebar di berbagai file tersebut dan membutuhkan metode untuk menggabungkan semua informasi yang dibutuhkan dari setiap file itu.\n",
    "\n",
    "Dengan menggunakan excel atau tools pengolah spreadsheet lain hal itu bisa terjadi mungkin dengan menggunakan copy paste file satu ke file lainnya atau yang agak canggih menggunakan method importRange di google sheets. Tetapi tentu hal itu tidak bisa diandalkan ketika berurusan dengan big data yang datanya bisa milyaran rows dengan informasi yang tidak terbatas, Python dan Pandas adalah satu-satunya cara untuk mengatasinya.\n",
    "\n",
    "Terdapat beberapa metode untuk menggabungkan Series/Dataframe di Pandas, yaitu:\n",
    "\n",
    "append\n",
    "concat\n",
    "merge\n",
    "join\n",
    "Akan dibahas satu persatu dalam subbab berikutnya."
   ]
  },
  {
   "cell_type": "code",
   "execution_count": 18,
   "metadata": {},
   "outputs": [],
   "source": [
    "import pandas as pd\n",
    "import matplotlib.pyplot as plt"
   ]
  },
  {
   "cell_type": "markdown",
   "metadata": {},
   "source": [
    "### Append\n",
    "Method .append() dapat digunakan pada dataframe/series yang ditujukan untuk menambah row-nya saja. Jika di SQL memiliki 2 tabel atau lebih maka dapat menggabungkannya secara vertikal dengan Union. Jadi SQL Union ekuivalen dengan method .append() di Pandas."
   ]
  },
  {
   "cell_type": "code",
   "execution_count": 19,
   "metadata": {},
   "outputs": [
    {
     "name": "stdout",
     "output_type": "stream",
     "text": [
      "Series - append:\n",
      " 0    a\n",
      "1    b\n",
      "2    c\n",
      "3    d\n",
      "4    e\n",
      "5    f\n",
      "0    1\n",
      "1    2\n",
      "2    3\n",
      "3    4\n",
      "4    5\n",
      "5    6\n",
      "dtype: object\n",
      "Dataframe - append:\n",
      "    b  a\n",
      "0  1  3\n",
      "1  2  4\n",
      "0  3  1\n",
      "1  4  2\n"
     ]
    }
   ],
   "source": [
    "# Buat series of int (s1) dan series of string (s2)\n",
    "s1 = pd.Series([1,2,3,4,5,6])\n",
    "s2 = pd.Series([\"a\",\"b\",\"c\",\"d\",\"e\",\"f\"])\n",
    "# Terapkan method append\n",
    "s2_append_s1 = s2.append(s1)\n",
    "print(\"Series - append:\\n\", s2_append_s1)\n",
    "# Buat dataframe df1 dan df2\n",
    "df1 = pd.DataFrame({'a':[1,2],\n",
    "\t\t   'b':[3,4]})\n",
    "df2 = pd.DataFrame({'b':[1,2],\n",
    "\t\t   'a':[3,4]})\n",
    "# Terapkan method append\n",
    "df2_append_df1 = df2.append(df1)\n",
    "print(\"Dataframe - append:\\n\", df2_append_df1)"
   ]
  },
  {
   "cell_type": "markdown",
   "metadata": {},
   "source": [
    "### Concat\n",
    "Method .concat() dapat digunakan pada dataframe yang ditujukan untuk penggabungan baik dalam row-wise (dalam arah ) atau column-wise."
   ]
  },
  {
   "cell_type": "code",
   "execution_count": 20,
   "metadata": {},
   "outputs": [
    {
     "name": "stdout",
     "output_type": "stream",
     "text": [
      "Row-wise - concat:\n",
      "    a  b\n",
      "0  1  3\n",
      "1  2  4\n",
      "0  3  1\n",
      "1  4  2\n",
      "Column-wise - concat:\n",
      "    a  b  b  a\n",
      "0  1  3  1  3\n",
      "1  2  4  2  4\n",
      "Multiindex - concat:\n",
      "        a  b\n",
      "df1 0  1  3\n",
      "    1  2  4\n",
      "df2 0  3  1\n",
      "    1  4  2\n"
     ]
    }
   ],
   "source": [
    "# Buat dataframe df1 dan df2\n",
    "df1 = pd.DataFrame({'a':[1,2],\n",
    "\t\t\t\t\t'b':[3,4]})\n",
    "df2 = pd.DataFrame({'b':[1,2],\n",
    "\t\t\t\t\t'a':[3,4]})\n",
    "# Terapkan method concat row-wise\n",
    "row_wise_concat = pd.concat([df1, df2])\n",
    "print(\"Row-wise - concat:\\n\", row_wise_concat)\n",
    "# Terapkan method concat column-wise\n",
    "col_wise_concat = pd.concat([df1, df2], axis=1)\n",
    "print(\"Column-wise - concat:\\n\", col_wise_concat)\n",
    "# Penambahan identifier --> membentuk hasil penggabungan multiindex\n",
    "multiindex_concat = pd.concat([df1, df2], axis=0, keys=['df1', 'df2'])\n",
    "print(\"Multiindex - concat:\\n\", multiindex_concat)"
   ]
  },
  {
   "cell_type": "code",
   "execution_count": 21,
   "metadata": {},
   "outputs": [
    {
     "name": "stdout",
     "output_type": "stream",
     "text": [
      "Row-wise - concat:\n",
      "    b  a\n",
      "0  1  3\n",
      "1  2  4\n",
      "0  3  1\n",
      "1  4  2\n",
      "Column-wise - concat:\n",
      "    b  a  a  b\n",
      "0  1  3  1  3\n",
      "1  2  4  2  4\n",
      "Multiindex - concat:\n",
      "        b  a\n",
      "df1 0  1  3\n",
      "    1  2  4\n",
      "df2 0  3  1\n",
      "    1  4  2\n"
     ]
    }
   ],
   "source": [
    "# Buat dataframe df1 dan df2\n",
    "df1 = pd.DataFrame({'a':[1,2],\n",
    "\t\t\t\t\t'b':[3,4]})\n",
    "df2 = pd.DataFrame({'b':[1,2],\n",
    "\t\t\t\t\t'a':[3,4]})\n",
    "# Terapkan method concat row-wise\n",
    "row_wise_concat = pd.concat([df2,df1])\n",
    "print(\"Row-wise - concat:\\n\",row_wise_concat)\n",
    "# Terapkan method concat column-wise\n",
    "col_wise_concat = pd.concat([df2, df1], axis=1)\n",
    "print(\"Column-wise - concat:\\n\",col_wise_concat)\n",
    "# Penambahan identifier --> membentuk hasil penggabungan multiindex\n",
    "multiindex_concat = pd.concat([df2,df1], axis=0, keys=['df1', 'df2'])\n",
    "print(\"Multiindex - concat:\\n\",multiindex_concat)"
   ]
  },
  {
   "cell_type": "markdown",
   "metadata": {},
   "source": [
    "### Merge - Part 1\n",
    "Method .merge() untuk menggabungkan Series/Dataframe yang bentuknya mirip dengan syntax join di SQL, specify left and right tables, join key dan how to join (left, right, inner, full outer)."
   ]
  },
  {
   "cell_type": "code",
   "execution_count": 22,
   "metadata": {},
   "outputs": [
    {
     "name": "stdout",
     "output_type": "stream",
     "text": [
      "Merge - Left:\n",
      "   key  val1  val2  val3  val4\n",
      "0  k1   200    30   1.0   6.0\n",
      "1  k2   500    50   NaN   NaN\n",
      "2  k3     0   100   2.0   7.0\n",
      "3  k4   500    20   NaN   NaN\n",
      "4  k5   100    10   3.0   8.0\n",
      "Merge - Right:\n",
      "    key   val1   val2  val3  val4\n",
      "0   k1  200.0   30.0     1     6\n",
      "1   k3    0.0  100.0     2     7\n",
      "2   k5  100.0   10.0     3     8\n",
      "3   k7    NaN    NaN     4     8\n",
      "4  k10    NaN    NaN     5    10\n",
      "Merge - Inner:\n",
      "   key  val1  val2  val3  val4\n",
      "0  k1   200    30     1     6\n",
      "1  k3     0   100     2     7\n",
      "2  k5   100    10     3     8\n",
      "Merge - Outer:\n",
      "    key   val1   val2  val3  val4\n",
      "0   k1  200.0   30.0   1.0   6.0\n",
      "1   k2  500.0   50.0   NaN   NaN\n",
      "2   k3    0.0  100.0   2.0   7.0\n",
      "3   k4  500.0   20.0   NaN   NaN\n",
      "4   k5  100.0   10.0   3.0   8.0\n",
      "5   k7    NaN    NaN   4.0   8.0\n",
      "6  k10    NaN    NaN   5.0  10.0\n"
     ]
    }
   ],
   "source": [
    "# Buat dataframe df1 dan df2\n",
    "df1 = pd.DataFrame({\n",
    "   'key':['k1','k2','k3','k4','k5'],\n",
    "   'val1':[200, 500, 0, 500, 100],\n",
    "   'val2':[30, 50, 100, 20, 10]\n",
    "})\n",
    "df2 = pd.DataFrame({\n",
    "   'key':['k1','k3','k5','k7','k10'],\n",
    "   'val3':[1,2,3,4,5],\n",
    "   'val4':[6,7,8,8,10]\n",
    "})\n",
    "# Merge yang ekivalen dengan SQL left join\n",
    "merge_df_left = pd.merge(left=df1, right=df2, how='left', left_on='key', right_on='key')\n",
    "print('Merge - Left:\\n', merge_df_left)\n",
    "# Merge yang ekivalen dengan SQL right join\n",
    "merge_df_right = pd.merge(left=df1, right=df2, how='right', left_on='key', right_on='key')\n",
    "print('Merge - Right:\\n', merge_df_right)\n",
    "# Merge yang ekivalen dengan SQL inner join\n",
    "merge_df_inner = pd.merge(left=df1, right=df2, how='inner', left_on='key', right_on='key')\n",
    "print('Merge - Inner:\\n', merge_df_inner)\n",
    "# Merge yang ekivalen dengan SQL outer join\n",
    "merge_df_outer = pd.merge(left=df1, right=df2, how='outer', left_on='key', right_on='key')\n",
    "print('Merge - Outer:\\n', merge_df_outer)"
   ]
  },
  {
   "cell_type": "code",
   "execution_count": 23,
   "metadata": {},
   "outputs": [
    {
     "name": "stdout",
     "output_type": "stream",
     "text": [
      "Merge - Left:\n",
      "    key  val3  val4   val1   val2\n",
      "0   k1     1     6  200.0   30.0\n",
      "1   k3     2     7    0.0  100.0\n",
      "2   k5     3     8  100.0   10.0\n",
      "3   k7     4     8    NaN    NaN\n",
      "4  k10     5    10    NaN    NaN\n",
      "Merge - Right:\n",
      "   key  val3  val4  val1  val2\n",
      "0  k1   1.0   6.0   200    30\n",
      "1  k2   NaN   NaN   500    50\n",
      "2  k3   2.0   7.0     0   100\n",
      "3  k4   NaN   NaN   500    20\n",
      "4  k5   3.0   8.0   100    10\n",
      "Merge - Inner:\n",
      "   key  val3  val4  val1  val2\n",
      "0  k1     1     6   200    30\n",
      "1  k3     2     7     0   100\n",
      "2  k5     3     8   100    10\n",
      "Merge - Outer:\n",
      "    key  val3  val4   val1   val2\n",
      "0   k1   1.0   6.0  200.0   30.0\n",
      "1   k3   2.0   7.0    0.0  100.0\n",
      "2   k5   3.0   8.0  100.0   10.0\n",
      "3   k7   4.0   8.0    NaN    NaN\n",
      "4  k10   5.0  10.0    NaN    NaN\n",
      "5   k2   NaN   NaN  500.0   50.0\n",
      "6   k4   NaN   NaN  500.0   20.0\n"
     ]
    }
   ],
   "source": [
    "# Buat dataframe df1 dan df2\n",
    "df1 = pd.DataFrame({\n",
    "   'key':['k1','k2','k3','k4','k5'],\n",
    "   'val1':[200, 500, 0, 500, 100],\n",
    "   'val2':[30, 50, 100, 20, 10]\n",
    "})\n",
    "df2 = pd.DataFrame({\n",
    "   'key':['k1','k3','k5','k7','k10'],\n",
    "   'val3':[1,2,3,4,5],\n",
    "   'val4':[6,7,8,8,10]\n",
    "})\n",
    "# Merge yang ekivalen dengan SQL left join\n",
    "merge_df_left = pd.merge(left=df2, right=df1, how='left', left_on='key', right_on='key')\n",
    "print('Merge - Left:\\n', merge_df_left)\n",
    "# Merge yang ekivalen dengan SQL right join\n",
    "merge_df_right = pd.merge(left=df2, right=df1, how='right', left_on='key', right_on='key')\n",
    "print('Merge - Right:\\n', merge_df_right)\n",
    "# Merge yang ekivalen dengan SQL inner join\n",
    "merge_df_inner = pd.merge(left=df2, right=df1, how='inner', left_on='key', right_on='key')\n",
    "print('Merge - Inner:\\n', merge_df_inner)\n",
    "# Merge yang ekivalen dengan SQL outer join\n",
    "merge_df_outer = pd.merge(left=df2, right=df1, how='outer', left_on='key', right_on='key')\n",
    "print('Merge - Outer:\\n', merge_df_outer)"
   ]
  },
  {
   "cell_type": "markdown",
   "metadata": {},
   "source": [
    "### Merge - Part 2\n",
    "Penggunaan method .merge yang telah dipelajari pada part 1 adalah untuk dataframe dengan index tunggal."
   ]
  },
  {
   "cell_type": "code",
   "execution_count": 24,
   "metadata": {},
   "outputs": [
    {
     "name": "stdout",
     "output_type": "stream",
     "text": [
      "Dataframe 1:\n",
      "           val1\n",
      "key val2      \n",
      "k1  30     200\n",
      "k2  50     500\n",
      "k3  100      0\n",
      "k4  20     500\n",
      "k5  10     100\n",
      "Dataframe 2:\n",
      "      val3  val4\n",
      "key            \n",
      "k1      1     6\n",
      "k3      2     7\n",
      "k5      3     8\n",
      "k7      4     8\n",
      "k10     5    10\n"
     ]
    }
   ],
   "source": [
    "# Buat dataframe df1 dan df2\n",
    "df1 = pd.DataFrame({\n",
    "   'key':['k1','k2','k3','k4','k5'],\n",
    "   'val1':[200, 500, 0, 500, 100],\n",
    "   'val2':[30, 50, 100, 20, 10]\n",
    "}).set_index(['key','val2'])\n",
    "print('Dataframe 1:\\n', df1)\n",
    "df2 = pd.DataFrame({\n",
    "   'key':['k1','k3','k5','k7','k10'],\n",
    "   'val3':[1,2,3,4,5],\n",
    "   'val4':[6,7,8,8,10]\n",
    "}).set_index('key','val3')\n",
    "print('Dataframe 2:\\n', df2)\n",
    "# Merge dataframe yang memiliki multi index\n",
    "#df_merge = ___\n",
    "#print('Merging dataframe:\\n', ___)"
   ]
  },
  {
   "cell_type": "code",
   "execution_count": 25,
   "metadata": {},
   "outputs": [
    {
     "ename": "MergeError",
     "evalue": "No common columns to perform merge on. Merge options: left_on=None, right_on=None, left_index=False, right_index=False",
     "output_type": "error",
     "traceback": [
      "\u001b[1;31m---------------------------------------------------------------------------\u001b[0m",
      "\u001b[1;31mMergeError\u001b[0m                                Traceback (most recent call last)",
      "\u001b[1;32m<ipython-input-25-fd68abdf5794>\u001b[0m in \u001b[0;36m<module>\u001b[1;34m\u001b[0m\n\u001b[0;32m      1\u001b[0m \u001b[1;31m# Merge dataframe yang memiliki multi index\u001b[0m\u001b[1;33m\u001b[0m\u001b[1;33m\u001b[0m\u001b[1;33m\u001b[0m\u001b[0m\n\u001b[1;32m----> 2\u001b[1;33m \u001b[0mdf_merge\u001b[0m \u001b[1;33m=\u001b[0m \u001b[0mpd\u001b[0m\u001b[1;33m.\u001b[0m\u001b[0mmerge\u001b[0m\u001b[1;33m(\u001b[0m\u001b[0mdf1\u001b[0m\u001b[1;33m,\u001b[0m\u001b[0mdf2\u001b[0m\u001b[1;33m)\u001b[0m\u001b[1;33m\u001b[0m\u001b[1;33m\u001b[0m\u001b[0m\n\u001b[0m\u001b[0;32m      3\u001b[0m \u001b[0mprint\u001b[0m\u001b[1;33m(\u001b[0m\u001b[1;34m'Merging dataframe:\\n'\u001b[0m\u001b[1;33m,\u001b[0m \u001b[0mdf_merge\u001b[0m\u001b[1;33m)\u001b[0m\u001b[1;33m\u001b[0m\u001b[1;33m\u001b[0m\u001b[0m\n",
      "\u001b[1;32m~\\.conda\\envs\\latihanpy\\lib\\site-packages\\pandas\\core\\reshape\\merge.py\u001b[0m in \u001b[0;36mmerge\u001b[1;34m(left, right, how, on, left_on, right_on, left_index, right_index, sort, suffixes, copy, indicator, validate)\u001b[0m\n\u001b[0;32m     72\u001b[0m     \u001b[0mvalidate\u001b[0m\u001b[1;33m=\u001b[0m\u001b[1;32mNone\u001b[0m\u001b[1;33m,\u001b[0m\u001b[1;33m\u001b[0m\u001b[1;33m\u001b[0m\u001b[0m\n\u001b[0;32m     73\u001b[0m ) -> \"DataFrame\":\n\u001b[1;32m---> 74\u001b[1;33m     op = _MergeOperation(\n\u001b[0m\u001b[0;32m     75\u001b[0m         \u001b[0mleft\u001b[0m\u001b[1;33m,\u001b[0m\u001b[1;33m\u001b[0m\u001b[1;33m\u001b[0m\u001b[0m\n\u001b[0;32m     76\u001b[0m         \u001b[0mright\u001b[0m\u001b[1;33m,\u001b[0m\u001b[1;33m\u001b[0m\u001b[1;33m\u001b[0m\u001b[0m\n",
      "\u001b[1;32m~\\.conda\\envs\\latihanpy\\lib\\site-packages\\pandas\\core\\reshape\\merge.py\u001b[0m in \u001b[0;36m__init__\u001b[1;34m(self, left, right, how, on, left_on, right_on, axis, left_index, right_index, sort, suffixes, copy, indicator, validate)\u001b[0m\n\u001b[0;32m    648\u001b[0m             \u001b[0mwarnings\u001b[0m\u001b[1;33m.\u001b[0m\u001b[0mwarn\u001b[0m\u001b[1;33m(\u001b[0m\u001b[0mmsg\u001b[0m\u001b[1;33m,\u001b[0m \u001b[0mUserWarning\u001b[0m\u001b[1;33m)\u001b[0m\u001b[1;33m\u001b[0m\u001b[1;33m\u001b[0m\u001b[0m\n\u001b[0;32m    649\u001b[0m \u001b[1;33m\u001b[0m\u001b[0m\n\u001b[1;32m--> 650\u001b[1;33m         \u001b[0mself\u001b[0m\u001b[1;33m.\u001b[0m\u001b[0m_validate_specification\u001b[0m\u001b[1;33m(\u001b[0m\u001b[1;33m)\u001b[0m\u001b[1;33m\u001b[0m\u001b[1;33m\u001b[0m\u001b[0m\n\u001b[0m\u001b[0;32m    651\u001b[0m \u001b[1;33m\u001b[0m\u001b[0m\n\u001b[0;32m    652\u001b[0m         \u001b[0mcross_col\u001b[0m \u001b[1;33m=\u001b[0m \u001b[1;32mNone\u001b[0m\u001b[1;33m\u001b[0m\u001b[1;33m\u001b[0m\u001b[0m\n",
      "\u001b[1;32m~\\.conda\\envs\\latihanpy\\lib\\site-packages\\pandas\\core\\reshape\\merge.py\u001b[0m in \u001b[0;36m_validate_specification\u001b[1;34m(self)\u001b[0m\n\u001b[0;32m   1281\u001b[0m                 \u001b[0mcommon_cols\u001b[0m \u001b[1;33m=\u001b[0m \u001b[0mleft_cols\u001b[0m\u001b[1;33m.\u001b[0m\u001b[0mintersection\u001b[0m\u001b[1;33m(\u001b[0m\u001b[0mright_cols\u001b[0m\u001b[1;33m)\u001b[0m\u001b[1;33m\u001b[0m\u001b[1;33m\u001b[0m\u001b[0m\n\u001b[0;32m   1282\u001b[0m                 \u001b[1;32mif\u001b[0m \u001b[0mlen\u001b[0m\u001b[1;33m(\u001b[0m\u001b[0mcommon_cols\u001b[0m\u001b[1;33m)\u001b[0m \u001b[1;33m==\u001b[0m \u001b[1;36m0\u001b[0m\u001b[1;33m:\u001b[0m\u001b[1;33m\u001b[0m\u001b[1;33m\u001b[0m\u001b[0m\n\u001b[1;32m-> 1283\u001b[1;33m                     raise MergeError(\n\u001b[0m\u001b[0;32m   1284\u001b[0m                         \u001b[1;34m\"No common columns to perform merge on. \"\u001b[0m\u001b[1;33m\u001b[0m\u001b[1;33m\u001b[0m\u001b[0m\n\u001b[0;32m   1285\u001b[0m                         \u001b[1;34mf\"Merge options: left_on={self.left_on}, \"\u001b[0m\u001b[1;33m\u001b[0m\u001b[1;33m\u001b[0m\u001b[0m\n",
      "\u001b[1;31mMergeError\u001b[0m: No common columns to perform merge on. Merge options: left_on=None, right_on=None, left_index=False, right_index=False"
     ]
    }
   ],
   "source": [
    "# Merge dataframe yang memiliki multi index\n",
    "df_merge = pd.merge(df1,df2)\n",
    "print('Merging dataframe:\\n', df_merge)"
   ]
  },
  {
   "cell_type": "markdown",
   "metadata": {},
   "source": [
    "Jika digabungkan secara langsung seperti yang telah dilakukan pada bagian sebelumnya akan menghasilkan error seperti diatas.\n",
    "<br>\n",
    "<i>MergeError: No common columns to perform merge on. Merge options: left_on=None, right_on=None, left_index=False, right_index=False</i>"
   ]
  },
  {
   "cell_type": "markdown",
   "metadata": {},
   "source": [
    "Cara mengatasinya adalah dengan mereset index pada kedua dataframe, kemudian merge akan mendeteksi common single/multi column di kedua dataframe dan melakukan merge,"
   ]
  },
  {
   "cell_type": "code",
   "execution_count": 26,
   "metadata": {},
   "outputs": [
    {
     "name": "stdout",
     "output_type": "stream",
     "text": [
      "Merging dataframe:\n",
      "   key  val2  val1  val3  val4\n",
      "0  k1    30   200     1     6\n",
      "1  k3   100     0     2     7\n",
      "2  k5    10   100     3     8\n"
     ]
    }
   ],
   "source": [
    "# Merge dataframe yang memiliki multi index\n",
    "df_merge = pd.merge(df1.reset_index(),df2.reset_index())\n",
    "print('Merging dataframe:\\n', df_merge)"
   ]
  },
  {
   "cell_type": "markdown",
   "metadata": {},
   "source": [
    "### Join\n",
    "Metthod .join() digunakan pada dataframe untuk menggabungkan kedua data dengan set index pada kedua tabel tersebut sebagai join key, tanpa index, hal ini tidak akan berhasil."
   ]
  },
  {
   "cell_type": "code",
   "execution_count": 27,
   "metadata": {},
   "outputs": [
    {
     "ename": "ValueError",
     "evalue": "columns overlap but no suffix specified: Index(['key'], dtype='object')",
     "output_type": "error",
     "traceback": [
      "\u001b[1;31m---------------------------------------------------------------------------\u001b[0m",
      "\u001b[1;31mValueError\u001b[0m                                Traceback (most recent call last)",
      "\u001b[1;32m<ipython-input-27-5ef04a0f0ada>\u001b[0m in \u001b[0;36m<module>\u001b[1;34m\u001b[0m\n\u001b[0;32m     11\u001b[0m })\n\u001b[0;32m     12\u001b[0m \u001b[1;31m# Penerapan join dengan menggunakan index default di dataframe\u001b[0m\u001b[1;33m\u001b[0m\u001b[1;33m\u001b[0m\u001b[1;33m\u001b[0m\u001b[0m\n\u001b[1;32m---> 13\u001b[1;33m \u001b[0mdf1\u001b[0m\u001b[1;33m.\u001b[0m\u001b[0mjoin\u001b[0m\u001b[1;33m(\u001b[0m\u001b[0mdf2\u001b[0m\u001b[1;33m)\u001b[0m\u001b[1;33m\u001b[0m\u001b[1;33m\u001b[0m\u001b[0m\n\u001b[0m",
      "\u001b[1;32m~\\.conda\\envs\\latihanpy\\lib\\site-packages\\pandas\\core\\frame.py\u001b[0m in \u001b[0;36mjoin\u001b[1;34m(self, other, on, how, lsuffix, rsuffix, sort)\u001b[0m\n\u001b[0;32m   8105\u001b[0m         \u001b[1;36m5\u001b[0m  \u001b[0mK5\u001b[0m  \u001b[0mA5\u001b[0m  \u001b[0mNaN\u001b[0m\u001b[1;33m\u001b[0m\u001b[1;33m\u001b[0m\u001b[0m\n\u001b[0;32m   8106\u001b[0m         \"\"\"\n\u001b[1;32m-> 8107\u001b[1;33m         return self._join_compat(\n\u001b[0m\u001b[0;32m   8108\u001b[0m             \u001b[0mother\u001b[0m\u001b[1;33m,\u001b[0m \u001b[0mon\u001b[0m\u001b[1;33m=\u001b[0m\u001b[0mon\u001b[0m\u001b[1;33m,\u001b[0m \u001b[0mhow\u001b[0m\u001b[1;33m=\u001b[0m\u001b[0mhow\u001b[0m\u001b[1;33m,\u001b[0m \u001b[0mlsuffix\u001b[0m\u001b[1;33m=\u001b[0m\u001b[0mlsuffix\u001b[0m\u001b[1;33m,\u001b[0m \u001b[0mrsuffix\u001b[0m\u001b[1;33m=\u001b[0m\u001b[0mrsuffix\u001b[0m\u001b[1;33m,\u001b[0m \u001b[0msort\u001b[0m\u001b[1;33m=\u001b[0m\u001b[0msort\u001b[0m\u001b[1;33m\u001b[0m\u001b[1;33m\u001b[0m\u001b[0m\n\u001b[0;32m   8109\u001b[0m         )\n",
      "\u001b[1;32m~\\.conda\\envs\\latihanpy\\lib\\site-packages\\pandas\\core\\frame.py\u001b[0m in \u001b[0;36m_join_compat\u001b[1;34m(self, other, on, how, lsuffix, rsuffix, sort)\u001b[0m\n\u001b[0;32m   8130\u001b[0m                     \u001b[0msort\u001b[0m\u001b[1;33m=\u001b[0m\u001b[0msort\u001b[0m\u001b[1;33m,\u001b[0m\u001b[1;33m\u001b[0m\u001b[1;33m\u001b[0m\u001b[0m\n\u001b[0;32m   8131\u001b[0m                 )\n\u001b[1;32m-> 8132\u001b[1;33m             return merge(\n\u001b[0m\u001b[0;32m   8133\u001b[0m                 \u001b[0mself\u001b[0m\u001b[1;33m,\u001b[0m\u001b[1;33m\u001b[0m\u001b[1;33m\u001b[0m\u001b[0m\n\u001b[0;32m   8134\u001b[0m                 \u001b[0mother\u001b[0m\u001b[1;33m,\u001b[0m\u001b[1;33m\u001b[0m\u001b[1;33m\u001b[0m\u001b[0m\n",
      "\u001b[1;32m~\\.conda\\envs\\latihanpy\\lib\\site-packages\\pandas\\core\\reshape\\merge.py\u001b[0m in \u001b[0;36mmerge\u001b[1;34m(left, right, how, on, left_on, right_on, left_index, right_index, sort, suffixes, copy, indicator, validate)\u001b[0m\n\u001b[0;32m     87\u001b[0m         \u001b[0mvalidate\u001b[0m\u001b[1;33m=\u001b[0m\u001b[0mvalidate\u001b[0m\u001b[1;33m,\u001b[0m\u001b[1;33m\u001b[0m\u001b[1;33m\u001b[0m\u001b[0m\n\u001b[0;32m     88\u001b[0m     )\n\u001b[1;32m---> 89\u001b[1;33m     \u001b[1;32mreturn\u001b[0m \u001b[0mop\u001b[0m\u001b[1;33m.\u001b[0m\u001b[0mget_result\u001b[0m\u001b[1;33m(\u001b[0m\u001b[1;33m)\u001b[0m\u001b[1;33m\u001b[0m\u001b[1;33m\u001b[0m\u001b[0m\n\u001b[0m\u001b[0;32m     90\u001b[0m \u001b[1;33m\u001b[0m\u001b[0m\n\u001b[0;32m     91\u001b[0m \u001b[1;33m\u001b[0m\u001b[0m\n",
      "\u001b[1;32m~\\.conda\\envs\\latihanpy\\lib\\site-packages\\pandas\\core\\reshape\\merge.py\u001b[0m in \u001b[0;36mget_result\u001b[1;34m(self)\u001b[0m\n\u001b[0;32m    684\u001b[0m         \u001b[0mjoin_index\u001b[0m\u001b[1;33m,\u001b[0m \u001b[0mleft_indexer\u001b[0m\u001b[1;33m,\u001b[0m \u001b[0mright_indexer\u001b[0m \u001b[1;33m=\u001b[0m \u001b[0mself\u001b[0m\u001b[1;33m.\u001b[0m\u001b[0m_get_join_info\u001b[0m\u001b[1;33m(\u001b[0m\u001b[1;33m)\u001b[0m\u001b[1;33m\u001b[0m\u001b[1;33m\u001b[0m\u001b[0m\n\u001b[0;32m    685\u001b[0m \u001b[1;33m\u001b[0m\u001b[0m\n\u001b[1;32m--> 686\u001b[1;33m         llabels, rlabels = _items_overlap_with_suffix(\n\u001b[0m\u001b[0;32m    687\u001b[0m             \u001b[0mself\u001b[0m\u001b[1;33m.\u001b[0m\u001b[0mleft\u001b[0m\u001b[1;33m.\u001b[0m\u001b[0m_info_axis\u001b[0m\u001b[1;33m,\u001b[0m \u001b[0mself\u001b[0m\u001b[1;33m.\u001b[0m\u001b[0mright\u001b[0m\u001b[1;33m.\u001b[0m\u001b[0m_info_axis\u001b[0m\u001b[1;33m,\u001b[0m \u001b[0mself\u001b[0m\u001b[1;33m.\u001b[0m\u001b[0msuffixes\u001b[0m\u001b[1;33m\u001b[0m\u001b[1;33m\u001b[0m\u001b[0m\n\u001b[0;32m    688\u001b[0m         )\n",
      "\u001b[1;32m~\\.conda\\envs\\latihanpy\\lib\\site-packages\\pandas\\core\\reshape\\merge.py\u001b[0m in \u001b[0;36m_items_overlap_with_suffix\u001b[1;34m(left, right, suffixes)\u001b[0m\n\u001b[0;32m   2176\u001b[0m \u001b[1;33m\u001b[0m\u001b[0m\n\u001b[0;32m   2177\u001b[0m     \u001b[1;32mif\u001b[0m \u001b[1;32mnot\u001b[0m \u001b[0mlsuffix\u001b[0m \u001b[1;32mand\u001b[0m \u001b[1;32mnot\u001b[0m \u001b[0mrsuffix\u001b[0m\u001b[1;33m:\u001b[0m\u001b[1;33m\u001b[0m\u001b[1;33m\u001b[0m\u001b[0m\n\u001b[1;32m-> 2178\u001b[1;33m         \u001b[1;32mraise\u001b[0m \u001b[0mValueError\u001b[0m\u001b[1;33m(\u001b[0m\u001b[1;34mf\"columns overlap but no suffix specified: {to_rename}\"\u001b[0m\u001b[1;33m)\u001b[0m\u001b[1;33m\u001b[0m\u001b[1;33m\u001b[0m\u001b[0m\n\u001b[0m\u001b[0;32m   2179\u001b[0m \u001b[1;33m\u001b[0m\u001b[0m\n\u001b[0;32m   2180\u001b[0m     \u001b[1;32mdef\u001b[0m \u001b[0mrenamer\u001b[0m\u001b[1;33m(\u001b[0m\u001b[0mx\u001b[0m\u001b[1;33m,\u001b[0m \u001b[0msuffix\u001b[0m\u001b[1;33m)\u001b[0m\u001b[1;33m:\u001b[0m\u001b[1;33m\u001b[0m\u001b[1;33m\u001b[0m\u001b[0m\n",
      "\u001b[1;31mValueError\u001b[0m: columns overlap but no suffix specified: Index(['key'], dtype='object')"
     ]
    }
   ],
   "source": [
    "# Buat dataframe df1 dan df2\n",
    "df1 = pd.DataFrame({\n",
    "   'key':['k1','k2','k3','k4','k5'],\n",
    "   'val1':[200, 500, 0, 500, 100],\n",
    "   'val2':[30, 50, 100, 20, 10]\n",
    "})\n",
    "df2 = pd.DataFrame({\n",
    "   'key':['k1','k3','k5','k7','k10'],\n",
    "   'val3':[1,2,3,4,5],\n",
    "   'val4':[6,7,8,8,10]\n",
    "})\n",
    "# Penerapan join dengan menggunakan index default di dataframe\n",
    "df1.join(df2)"
   ]
  },
  {
   "cell_type": "markdown",
   "metadata": {},
   "source": [
    "Untuk itu, jika dilakukan seperti ini"
   ]
  },
  {
   "cell_type": "code",
   "execution_count": 28,
   "metadata": {
    "scrolled": true
   },
   "outputs": [
    {
     "name": "stdout",
     "output_type": "stream",
     "text": [
      "     val1  val2  val3  val4\n",
      "key                        \n",
      "k1    200    30   1.0   6.0\n",
      "k2    500    50   NaN   NaN\n",
      "k3      0   100   2.0   7.0\n",
      "k4    500    20   NaN   NaN\n",
      "k5    100    10   3.0   8.0\n"
     ]
    }
   ],
   "source": [
    "# Buat dataframe df1 dan df2\n",
    "df1 = pd.DataFrame({\n",
    "   'key':['k1','k2','k3','k4','k5'],\n",
    "   'val1':[200, 500, 0, 500, 100],\n",
    "   'val2':[30, 50, 100, 20, 10]\n",
    "})\n",
    "df2 = pd.DataFrame({\n",
    "   'key':['k1','k3','k5','k7','k10'],\n",
    "   'val3':[1,2,3,4,5],\n",
    "   'val4':[6,7,8,8,10]\n",
    "})\n",
    "# Penerapan join dengan menggunakan set_index default 'key'\n",
    "print(df1.set_index('key').join(df2.set_index('key')))"
   ]
  },
  {
   "cell_type": "markdown",
   "metadata": {},
   "source": [
    "secara default, fungsi join ini akan mengeksekusi left join.\n",
    "\n",
    "Untuk tipe join yang lain (contoh=inner), harus menspecify keyword how='inner' seperti yang dicontohkan berikut ini"
   ]
  },
  {
   "cell_type": "code",
   "execution_count": 29,
   "metadata": {},
   "outputs": [
    {
     "name": "stdout",
     "output_type": "stream",
     "text": [
      "     val1  val2  val3  val4\n",
      "key                        \n",
      "k1    200    30     1     6\n",
      "k3      0   100     2     7\n",
      "k5    100    10     3     8\n"
     ]
    }
   ],
   "source": [
    "# Penerapan join dengan menggunakan set_index dan keyword how\n",
    "join_df = df1.set_index('key').join(df2.set_index('key'), how='inner')\n",
    "print(join_df)    "
   ]
  },
  {
   "cell_type": "code",
   "execution_count": 30,
   "metadata": {},
   "outputs": [
    {
     "name": "stdout",
     "output_type": "stream",
     "text": [
      "      val1   val2  val3  val4\n",
      "key                          \n",
      "k1   200.0   30.0   1.0   6.0\n",
      "k10    NaN    NaN   5.0  10.0\n",
      "k2   500.0   50.0   NaN   NaN\n",
      "k3     0.0  100.0   2.0   7.0\n",
      "k4   500.0   20.0   NaN   NaN\n",
      "k5   100.0   10.0   3.0   8.0\n",
      "k7     NaN    NaN   4.0   8.0\n"
     ]
    }
   ],
   "source": [
    "# Penerapan join dengan menggunakan set_index dan keyword how\n",
    "join_df = df1.set_index('key').join(df2.set_index('key'), how='outer')\n",
    "print(join_df)"
   ]
  },
  {
   "cell_type": "code",
   "execution_count": 31,
   "metadata": {},
   "outputs": [
    {
     "ename": "MergeError",
     "evalue": "Merge keys are not unique in right dataset; not a one-to-one merge",
     "output_type": "error",
     "traceback": [
      "\u001b[1;31m---------------------------------------------------------------------------\u001b[0m",
      "\u001b[1;31mMergeError\u001b[0m                                Traceback (most recent call last)",
      "\u001b[1;32m<ipython-input-31-13d928aede59>\u001b[0m in \u001b[0;36m<module>\u001b[1;34m\u001b[0m\n\u001b[0;32m     11\u001b[0m })\n\u001b[0;32m     12\u001b[0m \u001b[1;33m\u001b[0m\u001b[0m\n\u001b[1;32m---> 13\u001b[1;33m \u001b[0mjoin\u001b[0m \u001b[1;33m=\u001b[0m \u001b[0mpd\u001b[0m\u001b[1;33m.\u001b[0m\u001b[0mmerge\u001b[0m\u001b[1;33m(\u001b[0m\u001b[0mdf1\u001b[0m\u001b[1;33m,\u001b[0m \u001b[0mdf2\u001b[0m\u001b[1;33m,\u001b[0m \u001b[0mvalidate\u001b[0m\u001b[1;33m=\u001b[0m\u001b[1;34m'1:1'\u001b[0m\u001b[1;33m)\u001b[0m\u001b[1;33m\u001b[0m\u001b[1;33m\u001b[0m\u001b[0m\n\u001b[0m\u001b[0;32m     14\u001b[0m \u001b[0mprint\u001b[0m\u001b[1;33m(\u001b[0m\u001b[0mjoin\u001b[0m\u001b[1;33m)\u001b[0m\u001b[1;33m\u001b[0m\u001b[1;33m\u001b[0m\u001b[0m\n",
      "\u001b[1;32m~\\.conda\\envs\\latihanpy\\lib\\site-packages\\pandas\\core\\reshape\\merge.py\u001b[0m in \u001b[0;36mmerge\u001b[1;34m(left, right, how, on, left_on, right_on, left_index, right_index, sort, suffixes, copy, indicator, validate)\u001b[0m\n\u001b[0;32m     72\u001b[0m     \u001b[0mvalidate\u001b[0m\u001b[1;33m=\u001b[0m\u001b[1;32mNone\u001b[0m\u001b[1;33m,\u001b[0m\u001b[1;33m\u001b[0m\u001b[1;33m\u001b[0m\u001b[0m\n\u001b[0;32m     73\u001b[0m ) -> \"DataFrame\":\n\u001b[1;32m---> 74\u001b[1;33m     op = _MergeOperation(\n\u001b[0m\u001b[0;32m     75\u001b[0m         \u001b[0mleft\u001b[0m\u001b[1;33m,\u001b[0m\u001b[1;33m\u001b[0m\u001b[1;33m\u001b[0m\u001b[0m\n\u001b[0;32m     76\u001b[0m         \u001b[0mright\u001b[0m\u001b[1;33m,\u001b[0m\u001b[1;33m\u001b[0m\u001b[1;33m\u001b[0m\u001b[0m\n",
      "\u001b[1;32m~\\.conda\\envs\\latihanpy\\lib\\site-packages\\pandas\\core\\reshape\\merge.py\u001b[0m in \u001b[0;36m__init__\u001b[1;34m(self, left, right, how, on, left_on, right_on, axis, left_index, right_index, sort, suffixes, copy, indicator, validate)\u001b[0m\n\u001b[0;32m    676\u001b[0m         \u001b[1;31m# are in fact unique.\u001b[0m\u001b[1;33m\u001b[0m\u001b[1;33m\u001b[0m\u001b[1;33m\u001b[0m\u001b[0m\n\u001b[0;32m    677\u001b[0m         \u001b[1;32mif\u001b[0m \u001b[0mvalidate\u001b[0m \u001b[1;32mis\u001b[0m \u001b[1;32mnot\u001b[0m \u001b[1;32mNone\u001b[0m\u001b[1;33m:\u001b[0m\u001b[1;33m\u001b[0m\u001b[1;33m\u001b[0m\u001b[0m\n\u001b[1;32m--> 678\u001b[1;33m             \u001b[0mself\u001b[0m\u001b[1;33m.\u001b[0m\u001b[0m_validate\u001b[0m\u001b[1;33m(\u001b[0m\u001b[0mvalidate\u001b[0m\u001b[1;33m)\u001b[0m\u001b[1;33m\u001b[0m\u001b[1;33m\u001b[0m\u001b[0m\n\u001b[0m\u001b[0;32m    679\u001b[0m \u001b[1;33m\u001b[0m\u001b[0m\n\u001b[0;32m    680\u001b[0m     \u001b[1;32mdef\u001b[0m \u001b[0mget_result\u001b[0m\u001b[1;33m(\u001b[0m\u001b[0mself\u001b[0m\u001b[1;33m)\u001b[0m\u001b[1;33m:\u001b[0m\u001b[1;33m\u001b[0m\u001b[1;33m\u001b[0m\u001b[0m\n",
      "\u001b[1;32m~\\.conda\\envs\\latihanpy\\lib\\site-packages\\pandas\\core\\reshape\\merge.py\u001b[0m in \u001b[0;36m_validate\u001b[1;34m(self, validate)\u001b[0m\n\u001b[0;32m   1364\u001b[0m                 )\n\u001b[0;32m   1365\u001b[0m             \u001b[1;32melif\u001b[0m \u001b[1;32mnot\u001b[0m \u001b[0mright_unique\u001b[0m\u001b[1;33m:\u001b[0m\u001b[1;33m\u001b[0m\u001b[1;33m\u001b[0m\u001b[0m\n\u001b[1;32m-> 1366\u001b[1;33m                 raise MergeError(\n\u001b[0m\u001b[0;32m   1367\u001b[0m                     \u001b[1;34m\"Merge keys are not unique in right dataset; not a one-to-one merge\"\u001b[0m\u001b[1;33m\u001b[0m\u001b[1;33m\u001b[0m\u001b[0m\n\u001b[0;32m   1368\u001b[0m                 )\n",
      "\u001b[1;31mMergeError\u001b[0m: Merge keys are not unique in right dataset; not a one-to-one merge"
     ]
    }
   ],
   "source": [
    "df1 = pd.DataFrame({\n",
    "   'key':['k1','k2','k3','k4','k5'],\n",
    "   'val1':[200, 500, 0, 500, 100],\n",
    "   'val2':[30, 50, 100, 20, 10],\n",
    "  \n",
    "})\n",
    "df2 = pd.DataFrame({\n",
    "   'key':['k1','k1','k5','k7','k10'],\n",
    "   'val3':[1,2,3,4,5],\n",
    "   'val4':[6,7,8,8,10]\n",
    "})\n",
    "\n",
    "join = pd.merge(df1, df2, validate='1:1')\n",
    "print(join)"
   ]
  },
  {
   "cell_type": "markdown",
   "metadata": {},
   "source": [
    "## Pivot, Melt, Stack & Unstack\n",
    "Reference: https://pandas.pydata.org/pandas-docs/stable/user_guide/reshaping.html\n",
    "\n",
    "Melakukan format ulang pada dataset itu sangatlah penting, biasanya hal ini dilakukan untuk mengetahui keseluruhan data secara cepat dengan chart atau visualisasi. Untuk orang yang sudah mahir menggunakan spreadsheet pastilah tau banyak tentang fitur pivot ini.\n",
    "\n",
    "Di Pandas, ada beberapa teknik untuk melakukan pivot atau unpivot yang biasa disebut as melt di Pandas, terdapat pula konsep stack yang artinya menumpuk data dengan kolom yang lebih sedikit (stack) sama seperti konsep melt dan ada pula yang memperluas data dengan kolom yang lebih banyak (unstack) sama seperti konsep pivot."
   ]
  },
  {
   "cell_type": "code",
   "execution_count": 32,
   "metadata": {},
   "outputs": [
    {
     "name": "stdout",
     "output_type": "stream",
     "text": [
      "Unique value kelas: ['A' 'B']\n",
      "Unique value murid: ['A1' 'A2' 'A3' 'B1' 'B2' 'B3']\n",
      "Unique value pelajaran: ['math' 'english']\n",
      "Unique value nilai: [ 90  60  70  85  50 100  40  95  80  45]\n"
     ]
    }
   ],
   "source": [
    "# Dataframe\n",
    "data = pd.DataFrame({\n",
    "  'kelas': 6*['A'] + 6*['B'],\n",
    "  'murid': 2*['A1'] + 2*['A2'] + 2*['A3'] + 2*['B1'] + 2*['B2'] + 2*['B3'],\n",
    "  'pelajaran': 6*['math','english'],\n",
    "  'nilai': [90,60,70,85,50,60,100,40,95,80,60,45]\n",
    "}, columns=['kelas','murid','pelajaran','nilai'])\n",
    "# Unique value pada setiap kolom data\n",
    "for column in data.columns:\n",
    "    print('Unique value %s: %s' % (column, data[column].unique()))"
   ]
  },
  {
   "cell_type": "markdown",
   "metadata": {},
   "source": [
    "### Pivot\n",
    "Untuk menerapkan menerapkan method .pivot() pada dataframe dapat dilakukan pada dataframe yang miliki index tunggal ataupun indexnya adalah multiindex.\n",
    "\n",
    " \n",
    "\n",
    "Untuk dataset yang masih sama, yaitu data."
   ]
  },
  {
   "cell_type": "code",
   "execution_count": 33,
   "metadata": {},
   "outputs": [
    {
     "name": "stdout",
     "output_type": "stream",
     "text": [
      "Pivoting with single column measurement:\n",
      " pelajaran  english  math\n",
      "murid                   \n",
      "A1              60    90\n",
      "A2              85    70\n",
      "A3              60    50\n",
      "B1              40   100\n",
      "B2              80    95\n",
      "B3              45    60\n",
      "Pivoting with multiple column measurement:\n",
      "             kelas        nilai     \n",
      "pelajaran english math english math\n",
      "murid                              \n",
      "A1              A    A      60   90\n",
      "A2              A    A      85   70\n",
      "A3              A    A      60   50\n",
      "B1              B    B      40  100\n",
      "B2              B    B      80   95\n",
      "B3              B    B      45   60\n"
     ]
    }
   ],
   "source": [
    "# Pivoting with single column measurement\n",
    "pivot1 = data.pivot(index='murid',columns='pelajaran',values='nilai')\n",
    "print('Pivoting with single column measurement:\\n', pivot1)\n",
    "# Pivoting with multiple column measurement\n",
    "pivot2 = data.pivot(index='murid',columns='pelajaran')\n",
    "print('Pivoting with multiple column measurement:\\n', pivot2)"
   ]
  },
  {
   "cell_type": "markdown",
   "metadata": {},
   "source": [
    "Penjelasan:\n",
    "\n",
    "Apa yang berbeda dari kedua code di atas? Pada code pertama di specify values mana yang akan dilakukan pivot sedangkan di kedua tidak specific mana yang akan dilakukan pivot maka Pandas secara default men-treat kolom yang ada selain yang telah di specify as index dan columns as values instead."
   ]
  },
  {
   "cell_type": "markdown",
   "metadata": {},
   "source": [
    "### Pivot_table\n",
    "Apa yang terjadi kalau output pivot tabel memiliki duplicate index? Seperti yang diketahui, index di dataframe adalah unique identifier untuk setiap row, jadi tidak boleh ada duplikat dan setiap membuat pivot tabel, harus specify index as kolom yang mana dan columns nya memakai kolom yang mana.\n",
    "\n",
    "Perhatikan contoh yang diilustrasikan berikut ini"
   ]
  },
  {
   "cell_type": "code",
   "execution_count": 34,
   "metadata": {},
   "outputs": [
    {
     "ename": "ValueError",
     "evalue": "Index contains duplicate entries, cannot reshape",
     "output_type": "error",
     "traceback": [
      "\u001b[1;31m---------------------------------------------------------------------------\u001b[0m",
      "\u001b[1;31mValueError\u001b[0m                                Traceback (most recent call last)",
      "\u001b[1;32m<ipython-input-34-bcc624baf626>\u001b[0m in \u001b[0;36m<module>\u001b[1;34m\u001b[0m\n\u001b[0;32m      1\u001b[0m \u001b[1;31m# Creating pivot and assign pivot_tab\u001b[0m\u001b[1;33m\u001b[0m\u001b[1;33m\u001b[0m\u001b[1;33m\u001b[0m\u001b[0m\n\u001b[1;32m----> 2\u001b[1;33m \u001b[0mpivot_tab\u001b[0m \u001b[1;33m=\u001b[0m \u001b[0mdata\u001b[0m\u001b[1;33m.\u001b[0m\u001b[0mpivot\u001b[0m\u001b[1;33m(\u001b[0m\u001b[0mindex\u001b[0m\u001b[1;33m=\u001b[0m\u001b[1;34m'kelas'\u001b[0m\u001b[1;33m,\u001b[0m\u001b[0mcolumns\u001b[0m\u001b[1;33m=\u001b[0m\u001b[1;34m'pelajaran'\u001b[0m\u001b[1;33m,\u001b[0m\u001b[0mvalues\u001b[0m\u001b[1;33m=\u001b[0m\u001b[1;34m'nilai'\u001b[0m\u001b[1;33m)\u001b[0m\u001b[1;33m\u001b[0m\u001b[1;33m\u001b[0m\u001b[0m\n\u001b[0m\u001b[0;32m      3\u001b[0m \u001b[0mprint\u001b[0m\u001b[1;33m(\u001b[0m\u001b[1;34m'Creating pivot table:\\n'\u001b[0m\u001b[1;33m,\u001b[0m \u001b[0mpivot_tab\u001b[0m\u001b[1;33m)\u001b[0m\u001b[1;33m\u001b[0m\u001b[1;33m\u001b[0m\u001b[0m\n",
      "\u001b[1;32m~\\.conda\\envs\\latihanpy\\lib\\site-packages\\pandas\\core\\frame.py\u001b[0m in \u001b[0;36mpivot\u001b[1;34m(self, index, columns, values)\u001b[0m\n\u001b[0;32m   6874\u001b[0m         \u001b[1;32mfrom\u001b[0m \u001b[0mpandas\u001b[0m\u001b[1;33m.\u001b[0m\u001b[0mcore\u001b[0m\u001b[1;33m.\u001b[0m\u001b[0mreshape\u001b[0m\u001b[1;33m.\u001b[0m\u001b[0mpivot\u001b[0m \u001b[1;32mimport\u001b[0m \u001b[0mpivot\u001b[0m\u001b[1;33m\u001b[0m\u001b[1;33m\u001b[0m\u001b[0m\n\u001b[0;32m   6875\u001b[0m \u001b[1;33m\u001b[0m\u001b[0m\n\u001b[1;32m-> 6876\u001b[1;33m         \u001b[1;32mreturn\u001b[0m \u001b[0mpivot\u001b[0m\u001b[1;33m(\u001b[0m\u001b[0mself\u001b[0m\u001b[1;33m,\u001b[0m \u001b[0mindex\u001b[0m\u001b[1;33m=\u001b[0m\u001b[0mindex\u001b[0m\u001b[1;33m,\u001b[0m \u001b[0mcolumns\u001b[0m\u001b[1;33m=\u001b[0m\u001b[0mcolumns\u001b[0m\u001b[1;33m,\u001b[0m \u001b[0mvalues\u001b[0m\u001b[1;33m=\u001b[0m\u001b[0mvalues\u001b[0m\u001b[1;33m)\u001b[0m\u001b[1;33m\u001b[0m\u001b[1;33m\u001b[0m\u001b[0m\n\u001b[0m\u001b[0;32m   6877\u001b[0m \u001b[1;33m\u001b[0m\u001b[0m\n\u001b[0;32m   6878\u001b[0m     _shared_docs[\n",
      "\u001b[1;32m~\\.conda\\envs\\latihanpy\\lib\\site-packages\\pandas\\core\\reshape\\pivot.py\u001b[0m in \u001b[0;36mpivot\u001b[1;34m(data, index, columns, values)\u001b[0m\n\u001b[0;32m    459\u001b[0m         \u001b[1;32melse\u001b[0m\u001b[1;33m:\u001b[0m\u001b[1;33m\u001b[0m\u001b[1;33m\u001b[0m\u001b[0m\n\u001b[0;32m    460\u001b[0m             \u001b[0mindexed\u001b[0m \u001b[1;33m=\u001b[0m \u001b[0mdata\u001b[0m\u001b[1;33m.\u001b[0m\u001b[0m_constructor_sliced\u001b[0m\u001b[1;33m(\u001b[0m\u001b[0mdata\u001b[0m\u001b[1;33m[\u001b[0m\u001b[0mvalues\u001b[0m\u001b[1;33m]\u001b[0m\u001b[1;33m.\u001b[0m\u001b[0m_values\u001b[0m\u001b[1;33m,\u001b[0m \u001b[0mindex\u001b[0m\u001b[1;33m=\u001b[0m\u001b[0mindex\u001b[0m\u001b[1;33m)\u001b[0m\u001b[1;33m\u001b[0m\u001b[1;33m\u001b[0m\u001b[0m\n\u001b[1;32m--> 461\u001b[1;33m     \u001b[1;32mreturn\u001b[0m \u001b[0mindexed\u001b[0m\u001b[1;33m.\u001b[0m\u001b[0munstack\u001b[0m\u001b[1;33m(\u001b[0m\u001b[0mcolumns\u001b[0m\u001b[1;33m)\u001b[0m\u001b[1;33m\u001b[0m\u001b[1;33m\u001b[0m\u001b[0m\n\u001b[0m\u001b[0;32m    462\u001b[0m \u001b[1;33m\u001b[0m\u001b[0m\n\u001b[0;32m    463\u001b[0m \u001b[1;33m\u001b[0m\u001b[0m\n",
      "\u001b[1;32m~\\.conda\\envs\\latihanpy\\lib\\site-packages\\pandas\\core\\series.py\u001b[0m in \u001b[0;36munstack\u001b[1;34m(self, level, fill_value)\u001b[0m\n\u001b[0;32m   3797\u001b[0m         \u001b[1;32mfrom\u001b[0m \u001b[0mpandas\u001b[0m\u001b[1;33m.\u001b[0m\u001b[0mcore\u001b[0m\u001b[1;33m.\u001b[0m\u001b[0mreshape\u001b[0m\u001b[1;33m.\u001b[0m\u001b[0mreshape\u001b[0m \u001b[1;32mimport\u001b[0m \u001b[0munstack\u001b[0m\u001b[1;33m\u001b[0m\u001b[1;33m\u001b[0m\u001b[0m\n\u001b[0;32m   3798\u001b[0m \u001b[1;33m\u001b[0m\u001b[0m\n\u001b[1;32m-> 3799\u001b[1;33m         \u001b[1;32mreturn\u001b[0m \u001b[0munstack\u001b[0m\u001b[1;33m(\u001b[0m\u001b[0mself\u001b[0m\u001b[1;33m,\u001b[0m \u001b[0mlevel\u001b[0m\u001b[1;33m,\u001b[0m \u001b[0mfill_value\u001b[0m\u001b[1;33m)\u001b[0m\u001b[1;33m\u001b[0m\u001b[1;33m\u001b[0m\u001b[0m\n\u001b[0m\u001b[0;32m   3800\u001b[0m \u001b[1;33m\u001b[0m\u001b[0m\n\u001b[0;32m   3801\u001b[0m     \u001b[1;31m# ----------------------------------------------------------------------\u001b[0m\u001b[1;33m\u001b[0m\u001b[1;33m\u001b[0m\u001b[1;33m\u001b[0m\u001b[0m\n",
      "\u001b[1;32m~\\.conda\\envs\\latihanpy\\lib\\site-packages\\pandas\\core\\reshape\\reshape.py\u001b[0m in \u001b[0;36munstack\u001b[1;34m(obj, level, fill_value)\u001b[0m\n\u001b[0;32m    428\u001b[0m         \u001b[1;32mif\u001b[0m \u001b[0mis_extension_array_dtype\u001b[0m\u001b[1;33m(\u001b[0m\u001b[0mobj\u001b[0m\u001b[1;33m.\u001b[0m\u001b[0mdtype\u001b[0m\u001b[1;33m)\u001b[0m\u001b[1;33m:\u001b[0m\u001b[1;33m\u001b[0m\u001b[1;33m\u001b[0m\u001b[0m\n\u001b[0;32m    429\u001b[0m             \u001b[1;32mreturn\u001b[0m \u001b[0m_unstack_extension_series\u001b[0m\u001b[1;33m(\u001b[0m\u001b[0mobj\u001b[0m\u001b[1;33m,\u001b[0m \u001b[0mlevel\u001b[0m\u001b[1;33m,\u001b[0m \u001b[0mfill_value\u001b[0m\u001b[1;33m)\u001b[0m\u001b[1;33m\u001b[0m\u001b[1;33m\u001b[0m\u001b[0m\n\u001b[1;32m--> 430\u001b[1;33m         unstacker = _Unstacker(\n\u001b[0m\u001b[0;32m    431\u001b[0m             \u001b[0mobj\u001b[0m\u001b[1;33m.\u001b[0m\u001b[0mindex\u001b[0m\u001b[1;33m,\u001b[0m \u001b[0mlevel\u001b[0m\u001b[1;33m=\u001b[0m\u001b[0mlevel\u001b[0m\u001b[1;33m,\u001b[0m \u001b[0mconstructor\u001b[0m\u001b[1;33m=\u001b[0m\u001b[0mobj\u001b[0m\u001b[1;33m.\u001b[0m\u001b[0m_constructor_expanddim\u001b[0m\u001b[1;33m\u001b[0m\u001b[1;33m\u001b[0m\u001b[0m\n\u001b[0;32m    432\u001b[0m         )\n",
      "\u001b[1;32m~\\.conda\\envs\\latihanpy\\lib\\site-packages\\pandas\\core\\reshape\\reshape.py\u001b[0m in \u001b[0;36m__init__\u001b[1;34m(self, index, level, constructor)\u001b[0m\n\u001b[0;32m    116\u001b[0m             \u001b[1;32mraise\u001b[0m \u001b[0mValueError\u001b[0m\u001b[1;33m(\u001b[0m\u001b[1;34m\"Unstacked DataFrame is too big, causing int32 overflow\"\u001b[0m\u001b[1;33m)\u001b[0m\u001b[1;33m\u001b[0m\u001b[1;33m\u001b[0m\u001b[0m\n\u001b[0;32m    117\u001b[0m \u001b[1;33m\u001b[0m\u001b[0m\n\u001b[1;32m--> 118\u001b[1;33m         \u001b[0mself\u001b[0m\u001b[1;33m.\u001b[0m\u001b[0m_make_selectors\u001b[0m\u001b[1;33m(\u001b[0m\u001b[1;33m)\u001b[0m\u001b[1;33m\u001b[0m\u001b[1;33m\u001b[0m\u001b[0m\n\u001b[0m\u001b[0;32m    119\u001b[0m \u001b[1;33m\u001b[0m\u001b[0m\n\u001b[0;32m    120\u001b[0m     \u001b[1;33m@\u001b[0m\u001b[0mcache_readonly\u001b[0m\u001b[1;33m\u001b[0m\u001b[1;33m\u001b[0m\u001b[0m\n",
      "\u001b[1;32m~\\.conda\\envs\\latihanpy\\lib\\site-packages\\pandas\\core\\reshape\\reshape.py\u001b[0m in \u001b[0;36m_make_selectors\u001b[1;34m(self)\u001b[0m\n\u001b[0;32m    165\u001b[0m \u001b[1;33m\u001b[0m\u001b[0m\n\u001b[0;32m    166\u001b[0m         \u001b[1;32mif\u001b[0m \u001b[0mmask\u001b[0m\u001b[1;33m.\u001b[0m\u001b[0msum\u001b[0m\u001b[1;33m(\u001b[0m\u001b[1;33m)\u001b[0m \u001b[1;33m<\u001b[0m \u001b[0mlen\u001b[0m\u001b[1;33m(\u001b[0m\u001b[0mself\u001b[0m\u001b[1;33m.\u001b[0m\u001b[0mindex\u001b[0m\u001b[1;33m)\u001b[0m\u001b[1;33m:\u001b[0m\u001b[1;33m\u001b[0m\u001b[1;33m\u001b[0m\u001b[0m\n\u001b[1;32m--> 167\u001b[1;33m             \u001b[1;32mraise\u001b[0m \u001b[0mValueError\u001b[0m\u001b[1;33m(\u001b[0m\u001b[1;34m\"Index contains duplicate entries, cannot reshape\"\u001b[0m\u001b[1;33m)\u001b[0m\u001b[1;33m\u001b[0m\u001b[1;33m\u001b[0m\u001b[0m\n\u001b[0m\u001b[0;32m    168\u001b[0m \u001b[1;33m\u001b[0m\u001b[0m\n\u001b[0;32m    169\u001b[0m         \u001b[0mself\u001b[0m\u001b[1;33m.\u001b[0m\u001b[0mgroup_index\u001b[0m \u001b[1;33m=\u001b[0m \u001b[0mcomp_index\u001b[0m\u001b[1;33m\u001b[0m\u001b[1;33m\u001b[0m\u001b[0m\n",
      "\u001b[1;31mValueError\u001b[0m: Index contains duplicate entries, cannot reshape"
     ]
    }
   ],
   "source": [
    "# Creating pivot and assign pivot_tab\n",
    "pivot_tab = data.pivot(index='kelas',columns='pelajaran',values='nilai')\n",
    "print('Creating pivot table:\\n', pivot_tab)"
   ]
  },
  {
   "cell_type": "markdown",
   "metadata": {},
   "source": [
    "Hal ini dapat diatasi dengan melakukan method .pivot_table() pada dataframe. Metode ini sama seperti melakukan pivot pada tabel tapi juga melakukan groupby dan aggregation (aggfunc) pada level rows sehingga dipastikan tidak ada duplicate index di rows (secara default aggfunc = 'mean')."
   ]
  },
  {
   "cell_type": "code",
   "execution_count": 35,
   "metadata": {
    "scrolled": true
   },
   "outputs": [
    {
     "name": "stdout",
     "output_type": "stream",
     "text": [
      "Creating pivot table:\n",
      " pelajaran  english  math\n",
      "kelas                   \n",
      "A              205   210\n",
      "B              165   255\n"
     ]
    }
   ],
   "source": [
    "# Creating pivot and assign pivot_tab dengan menggunakan keyword aggfunc\n",
    "pivot_tab = data.pivot_table(index='kelas',columns='pelajaran',values='nilai',aggfunc=sum)\n",
    "print('Creating pivot table:\\n', pivot_tab)"
   ]
  },
  {
   "cell_type": "markdown",
   "metadata": {},
   "source": [
    "Keyword aggfunc yang digunakan pada method .pivot_table() dapat menggunakan nilai berikut:\n",
    "\n",
    "- sum\n",
    "- 'mean'\n",
    "- 'median'"
   ]
  },
  {
   "cell_type": "code",
   "execution_count": 36,
   "metadata": {},
   "outputs": [
    {
     "name": "stdout",
     "output_type": "stream",
     "text": [
      "Creating pivot table -- aggfunc mean:\n",
      " pelajaran    english  math\n",
      "kelas                     \n",
      "A          68.333333  70.0\n",
      "B          55.000000  85.0\n",
      "Creating pivot table -- aggfunc median:\n",
      " pelajaran  english  math\n",
      "kelas                   \n",
      "A               60    70\n",
      "B               45    95\n"
     ]
    }
   ],
   "source": [
    "# Creating pivot and assign pivot_tab dengan menggunakan keyword aggfunc='mean'\n",
    "pivot_tab_mean = data.pivot_table(index='kelas',columns='pelajaran',values='nilai',aggfunc='mean')\n",
    "print('Creating pivot table -- aggfunc mean:\\n', pivot_tab_mean)\n",
    "# Creating pivot and assign pivot_tab dengan menggunakan keyword aggfunc='median'\n",
    "pivot_tab_median = data.pivot_table(index='kelas',columns='pelajaran',values='nilai',aggfunc='median')\n",
    "print('Creating pivot table -- aggfunc median:\\n', pivot_tab_median)"
   ]
  },
  {
   "cell_type": "markdown",
   "metadata": {},
   "source": [
    "### Melt - Part 1\n",
    "Teknik melt melalui pd.melt() digunakan untuk mengembalikan kondisi data yang sudah dilakukan pivot menjadi sebelum pivot.\n",
    "\n",
    "Mari diperhatikan kembali dataframe yang telah digunakan sebelumnya dan dataframenya sudah dipivot."
   ]
  },
  {
   "cell_type": "code",
   "execution_count": 37,
   "metadata": {
    "scrolled": true
   },
   "outputs": [
    {
     "name": "stdout",
     "output_type": "stream",
     "text": [
      "Pivoting dataframe:\n",
      " pelajaran kelas    english  math\n",
      "0             A  68.333333  70.0\n",
      "1             B  55.000000  85.0\n"
     ]
    }
   ],
   "source": [
    "# Pivoting dataFrame\n",
    "data_pivot = data.pivot_table(index='kelas',columns='pelajaran',values='nilai',aggfunc='mean').reset_index()\n",
    "print('Pivoting dataframe:\\n', data_pivot)"
   ]
  },
  {
   "cell_type": "markdown",
   "metadata": {},
   "source": [
    "Akan melakukan teknik melting pada dataframe output di atas."
   ]
  },
  {
   "cell_type": "code",
   "execution_count": 38,
   "metadata": {},
   "outputs": [
    {
     "name": "stdout",
     "output_type": "stream",
     "text": [
      "Melting dataframe:\n",
      "   pelajaran      value\n",
      "0     kelas          A\n",
      "1     kelas          B\n",
      "2   english  68.333333\n",
      "3   english  55.000000\n",
      "4      math  70.000000\n",
      "5      math  85.000000\n"
     ]
    }
   ],
   "source": [
    "# [1] Melting dataframe data_pivot\n",
    "data_melt_1 = pd.melt(data_pivot)\n",
    "print('Melting dataframe:\\n', data_melt_1)"
   ]
  },
  {
   "cell_type": "markdown",
   "metadata": {},
   "source": [
    "[2] Dengan menspesifikasi keyword argument id_vars yang ditujukan untuk membuat fix kolom yang sebagai id tiap barisnya"
   ]
  },
  {
   "cell_type": "code",
   "execution_count": 39,
   "metadata": {},
   "outputs": [
    {
     "name": "stdout",
     "output_type": "stream",
     "text": [
      "Melting dataframe dengan idvars:\n",
      "   kelas pelajaran      value\n",
      "0     A   english  68.333333\n",
      "1     B   english  55.000000\n",
      "2     A      math  70.000000\n",
      "3     B      math  85.000000\n"
     ]
    }
   ],
   "source": [
    "# [2] Melting dataframe data_pivot dengan id_vars\n",
    "data_melt_2 = pd.melt(data_pivot, id_vars='kelas')\n",
    "print('Melting dataframe dengan idvars:\\n', data_melt_2)"
   ]
  },
  {
   "cell_type": "markdown",
   "metadata": {},
   "source": [
    "### Melt - Part 2\n",
    "Mari melanjutkan ke bagian kedua dari penggunaan teknik melt ini. Mari lihat kembali dataframe yang telah diperoleh melalui pivoting"
   ]
  },
  {
   "cell_type": "markdown",
   "metadata": {},
   "source": [
    "[3] Dengan menspesifikasikan keyword argument value_vars yang digunakan untuk menampilkan variasi value apa saja yang perlu dimunculkan di kolom variable. "
   ]
  },
  {
   "cell_type": "code",
   "execution_count": 40,
   "metadata": {},
   "outputs": [
    {
     "name": "stdout",
     "output_type": "stream",
     "text": [
      "Melting dataframe dengan value_vars:\n",
      "   pelajaran  value\n",
      "0      math   70.0\n",
      "1      math   85.0\n",
      "Melting dataframe dengan id_vars dan value_vars:\n",
      "   kelas pelajaran  value\n",
      "0     A      math   70.0\n",
      "1     B      math   85.0\n"
     ]
    }
   ],
   "source": [
    "# [3.a] Melting dataframe data_pivot dengan value_vars\n",
    "data_melt_3a = pd.melt(data_pivot, value_vars=['math'])\n",
    "print('Melting dataframe dengan value_vars:\\n', data_melt_3a)\n",
    "# [3.b] Melting dataframe data_pivot dengan id_vars dan value_vars\n",
    "data_melt_3b = pd.melt(data_pivot, id_vars='kelas', value_vars=['math'])\n",
    "print('Melting dataframe dengan id_vars dan value_vars:\\n', data_melt_3b)"
   ]
  },
  {
   "cell_type": "markdown",
   "metadata": {},
   "source": [
    "[4] Dengan spesifikasikan keyword argument var_name dan value_name yang digunakan untuk menampilkan nama kolom untuk variable dan value"
   ]
  },
  {
   "cell_type": "code",
   "execution_count": 41,
   "metadata": {},
   "outputs": [
    {
     "name": "stdout",
     "output_type": "stream",
     "text": [
      "Melting dataframe dengan id_vars, value_vars, var_name. dan value_name:\n",
      "   kelas pelajaran      nilai\n",
      "0     A   english  68.333333\n",
      "1     B   english  55.000000\n",
      "2     A      math  70.000000\n",
      "3     B      math  85.000000\n"
     ]
    }
   ],
   "source": [
    "# [4] Melting dataframe data_pivot dengan id_vars, value_vars, var_name. dan value_name\n",
    "data_melt_4 = pd.melt(data_pivot, id_vars='kelas', value_vars=['english','math'], var_name='pelajaran',value_name='nilai')\n",
    "print('Melting dataframe dengan id_vars, value_vars, var_name. dan value_name:\\n', data_melt_4)"
   ]
  },
  {
   "cell_type": "markdown",
   "metadata": {},
   "source": [
    "### Stack & Unstack - Part 1\n",
    "Konsep stacking dan unstacking sama dengan melt dan pivot secara berurutan, hanya saja tidak memasukkan index sebagai parameter di stack/unstack tapi harus set index terlebih dahulu, baru bisa melakukan stacking/unstacking dengan level yang bisa ditentukan sendiri.\n",
    "\n",
    " \n",
    "\n",
    "Perhatikan kembali dataframe berikut dengan multi index-nya."
   ]
  },
  {
   "cell_type": "code",
   "execution_count": 42,
   "metadata": {},
   "outputs": [
    {
     "name": "stdout",
     "output_type": "stream",
     "text": [
      "Dataframe multi index:\n",
      "                        nilai\n",
      "kelas murid pelajaran       \n",
      "A     A1    math          90\n",
      "            english       60\n",
      "      A2    math          70\n",
      "            english       85\n",
      "      A3    math          50\n",
      "            english       60\n",
      "B     B1    math         100\n",
      "            english       40\n",
      "      B2    math          95\n",
      "            english       80\n",
      "      B3    math          60\n",
      "            english       45\n"
     ]
    }
   ],
   "source": [
    "# Dataframe\n",
    "data = pd.DataFrame({\n",
    "  'kelas': 6*['A'] + 6*['B'],\n",
    "  'murid': 2*['A1'] + 2*['A2'] + 2*['A3'] + 2*['B1'] + 2*['B2'] + 2*['B3'],\n",
    "  'pelajaran': 6*['math','english'],\n",
    "  'nilai': [90,60,70,85,50,60,100,40,95,80,60,45]\n",
    "}, columns=['kelas','murid','pelajaran','nilai'])\n",
    "# Set index data untuk kolom kelas, murid, dan pelajaran\n",
    "data = data.set_index(['kelas','murid','pelajaran'])\n",
    "print('Dataframe multi index:\\n', data)"
   ]
  },
  {
   "cell_type": "markdown",
   "metadata": {},
   "source": [
    "Mari terapkan bagaimana menggunakan teknik stacking dan unstacking ini pada dataframe multi index 'data':\n",
    "\n",
    "[1] Unstackinng dataframe"
   ]
  },
  {
   "cell_type": "code",
   "execution_count": 43,
   "metadata": {},
   "outputs": [
    {
     "name": "stdout",
     "output_type": "stream",
     "text": [
      "Unstacking dataframe:\n",
      "               nilai     \n",
      "pelajaran   english math\n",
      "kelas murid             \n",
      "A     A1         60   90\n",
      "      A2         85   70\n",
      "      A3         60   50\n",
      "B     B1         40  100\n",
      "      B2         80   95\n",
      "      B3         45   60\n"
     ]
    }
   ],
   "source": [
    "# [1] Unstacking dataframe\n",
    "data_unstack_1 = data.unstack()\n",
    "print('Unstacking dataframe:\\n', data_unstack_1)"
   ]
  },
  {
   "cell_type": "markdown",
   "metadata": {},
   "source": [
    "[2] Unstacking dengan specify level name"
   ]
  },
  {
   "cell_type": "code",
   "execution_count": 44,
   "metadata": {},
   "outputs": [
    {
     "name": "stdout",
     "output_type": "stream",
     "text": [
      "Unstacking dataframe dengan level name:\n",
      "                 nilai                               \n",
      "murid              A1    A2    A3     B1    B2    B3\n",
      "kelas pelajaran                                     \n",
      "A     english    60.0  85.0  60.0    NaN   NaN   NaN\n",
      "      math       90.0  70.0  50.0    NaN   NaN   NaN\n",
      "B     english     NaN   NaN   NaN   40.0  80.0  45.0\n",
      "      math        NaN   NaN   NaN  100.0  95.0  60.0\n"
     ]
    }
   ],
   "source": [
    "# [2] Unstacking dengan specify level name\n",
    "data_unstack_2 = data.unstack(level='murid')\n",
    "print('Unstacking dataframe dengan level name:\\n', data_unstack_2)"
   ]
  },
  {
   "cell_type": "markdown",
   "metadata": {},
   "source": [
    "3] Unstacking dengan specify level position"
   ]
  },
  {
   "cell_type": "code",
   "execution_count": 45,
   "metadata": {},
   "outputs": [
    {
     "name": "stdout",
     "output_type": "stream",
     "text": [
      "Unstacking dataframe dengan level position:\n",
      "                 nilai                               \n",
      "murid              A1    A2    A3     B1    B2    B3\n",
      "kelas pelajaran                                     \n",
      "A     english    60.0  85.0  60.0    NaN   NaN   NaN\n",
      "      math       90.0  70.0  50.0    NaN   NaN   NaN\n",
      "B     english     NaN   NaN   NaN   40.0  80.0  45.0\n",
      "      math        NaN   NaN   NaN  100.0  95.0  60.0\n"
     ]
    }
   ],
   "source": [
    "# [3] Unstacking dengan specify level position\n",
    "data_unstack_3 = data.unstack(level=1)\n",
    "print('Unstacking dataframe dengan level position:\\n', data_unstack_3)"
   ]
  },
  {
   "cell_type": "markdown",
   "metadata": {},
   "source": [
    "### Stack & Unstack - Part 2\n",
    "Dalam bagian kedua dari Stack & Unstack ini akan membahas stacking dataframe. Untuk itu, mari diperhatikan dataframe berikut ini"
   ]
  },
  {
   "cell_type": "code",
   "execution_count": 46,
   "metadata": {},
   "outputs": [
    {
     "name": "stdout",
     "output_type": "stream",
     "text": [
      "DAtaframe:\n",
      "                 nilai                               \n",
      "murid              A1    A2    A3     B1    B2    B3\n",
      "kelas pelajaran                                     \n",
      "A     english    60.0  85.0  60.0    NaN   NaN   NaN\n",
      "      math       90.0  70.0  50.0    NaN   NaN   NaN\n",
      "B     english     NaN   NaN   NaN   40.0  80.0  45.0\n",
      "      math        NaN   NaN   NaN  100.0  95.0  60.0\n"
     ]
    }
   ],
   "source": [
    "# Dataframe\n",
    "data = pd.DataFrame({\n",
    "  'kelas': 6*['A'] + 6*['B'],\n",
    "  'murid': 2*['A1'] + 2*['A2'] + 2*['A3'] + 2*['B1'] + 2*['B2'] + 2*['B3'],\n",
    "  'pelajaran': 6*['math','english'],\n",
    "  'nilai': [90,60,70,85,50,60,100,40,95,80,60,45]\n",
    "}, columns=['kelas','murid','pelajaran','nilai'])\n",
    "data = data.set_index(['kelas','murid','pelajaran'])\n",
    "data_unstack = data.unstack(level=1)\n",
    "print('DAtaframe:\\n', data_unstack)"
   ]
  },
  {
   "cell_type": "code",
   "execution_count": 47,
   "metadata": {},
   "outputs": [
    {
     "name": "stdout",
     "output_type": "stream",
     "text": [
      "Stacked dataframe:\n",
      "                        nilai\n",
      "kelas pelajaran murid       \n",
      "A     english   A1      60.0\n",
      "                A2      85.0\n",
      "                A3      60.0\n",
      "      math      A1      90.0\n",
      "                A2      70.0\n",
      "                A3      50.0\n",
      "B     english   B1      40.0\n",
      "                B2      80.0\n",
      "                B3      45.0\n",
      "      math      B1     100.0\n",
      "                B2      95.0\n",
      "                B3      60.0\n"
     ]
    }
   ],
   "source": [
    "# [1] Stacking dataframe\n",
    "data_stack = data_unstack.stack()\n",
    "print('Stacked dataframe:\\n', data_stack)"
   ]
  },
  {
   "cell_type": "markdown",
   "metadata": {},
   "source": [
    "[2] Tukar posisi index setelah stacking dataframe"
   ]
  },
  {
   "cell_type": "code",
   "execution_count": 48,
   "metadata": {
    "scrolled": true
   },
   "outputs": [
    {
     "name": "stdout",
     "output_type": "stream",
     "text": [
      "Swapped data:\n",
      "                        nilai\n",
      "kelas murid pelajaran       \n",
      "A     A1    english     60.0\n",
      "      A2    english     85.0\n",
      "      A3    english     60.0\n",
      "      A1    math        90.0\n",
      "      A2    math        70.0\n",
      "      A3    math        50.0\n",
      "B     B1    english     40.0\n",
      "      B2    english     80.0\n",
      "      B3    english     45.0\n",
      "      B1    math       100.0\n",
      "      B2    math        95.0\n",
      "      B3    math        60.0\n"
     ]
    }
   ],
   "source": [
    "# [2] Tukar posisi index setelah stacking dataframe\n",
    "data_swap = data_stack.swaplevel(1,2)\n",
    "print('Swapped data:\\n', data_swap)"
   ]
  },
  {
   "cell_type": "markdown",
   "metadata": {},
   "source": [
    "3] Melakukan sort_index pada stacking dataframe"
   ]
  },
  {
   "cell_type": "code",
   "execution_count": 49,
   "metadata": {},
   "outputs": [
    {
     "name": "stdout",
     "output_type": "stream",
     "text": [
      "Sorted data:\n",
      "                        nilai\n",
      "kelas murid pelajaran       \n",
      "A     A1    english     60.0\n",
      "            math        90.0\n",
      "      A2    english     85.0\n",
      "            math        70.0\n",
      "      A3    english     60.0\n",
      "            math        50.0\n",
      "B     B1    english     40.0\n",
      "            math       100.0\n",
      "      B2    english     80.0\n",
      "            math        95.0\n",
      "      B3    english     45.0\n",
      "            math        60.0\n"
     ]
    }
   ],
   "source": [
    "# [3] Melakukan sort_index pada stacking dataframe\n",
    "data_sort = data_swap.sort_index()\n",
    "print('Sorted data:\\n', data_sort)"
   ]
  },
  {
   "cell_type": "markdown",
   "metadata": {},
   "source": [
    "##  Aggregation & GroupBy\n",
    "Pendahuluan\n",
    "Teknik agregasi diperlukan ketika mau melihat dataset dengan view yang berbeda, bisa set data tersebut akan dikelompokkan seperti apa, yang kemudian juga bisa menerapkan beberapa fungsi atau metode statistik ke hasil group dataset itu untuk mengetahui behavior dari data tersebut secara summary/overview.\n",
    "\n",
    "Basic Concept of Groupby & Aggregation!\n",
    "![](basic_concept_of_groupby_&_aggregation.png)\n",
    "\n",
    "Groupby memiliki konsep untuk\n",
    "\n",
    "1. Split: melakukan indexing/multi-indexing dengan apa yang di specify as groupby menjadi kelompok\n",
    "2. Apply: menerapkan fungsi pada masing-masing kelompok tersebut\n",
    "3. Combine: mengumpulkan semua hasil fungsi dari tiap kelompok kembali menjadi dataframe"
   ]
  },
  {
   "cell_type": "markdown",
   "metadata": {},
   "source": [
    "### Review Inspeksi Data\n",
    "Mari review kembali terkait dengan inspeksi data yang pernah dilakukan pada modul sebelumnya. Akan menggunakan dataset https://dqlab-dataset.s3-ap-southeast-1.amazonaws.com/LO4/global_air_quality_4000rows.csv\n",
    "\n",
    "[1] Load data dari csv"
   ]
  },
  {
   "cell_type": "code",
   "execution_count": 51,
   "metadata": {},
   "outputs": [
    {
     "name": "stdout",
     "output_type": "stream",
     "text": [
      "Lima data teratas:\n",
      "                           location       city country pollutant  value  \\\n",
      "0                  MOBILE-KICKAPOO    LINCOLN      US      pm10   7.00   \n",
      "1                  Oxford St Ebbes     Oxford      GB       no2  30.00   \n",
      "2                 BROADWAY (South)  St. Louis      US      pm25   6.10   \n",
      "3  Deen Dayal Nagar, Sagar - MPPCB      Sagar      IN      pm25  23.67   \n",
      "4                        Manglerud       Oslo      NO      pm10  27.06   \n",
      "\n",
      "                 timestamp   unit source_name   latitude  longitude  \\\n",
      "0  2017-01-18 16:00:00 UTC  µg/m³      AirNow  35.488400 -97.090280   \n",
      "1  2020-04-07 20:00:00 UTC  µg/m³       DEFRA  51.744804  -1.260278   \n",
      "2  2020-04-07 19:00:00 UTC  µg/m³      AirNow  38.542500 -90.263610   \n",
      "3  2020-04-07 18:30:00 UTC  µg/m³       caaqm  23.864016  78.802895   \n",
      "4  2020-04-07 20:00:00 UTC  µg/m³      Norway  59.898690  10.814950   \n",
      "\n",
      "   averaged_over_in_hours  \n",
      "0                    1.00  \n",
      "1                    1.00  \n",
      "2                    1.00  \n",
      "3                    0.25  \n",
      "4                    1.00  \n"
     ]
    }
   ],
   "source": [
    "# Load data global_air_quality.csv\n",
    "global_air_quality = pd.read_csv('https://dqlab-dataset.s3-ap-southeast-1.amazonaws.com/LO4/global_air_quality_4000rows.csv')\n",
    "print('Lima data teratas:\\n', global_air_quality.head())"
   ]
  },
  {
   "cell_type": "markdown",
   "metadata": {},
   "source": [
    "2] Melakukan pengecekan terhadap data"
   ]
  },
  {
   "cell_type": "code",
   "execution_count": 52,
   "metadata": {},
   "outputs": [
    {
     "name": "stdout",
     "output_type": "stream",
     "text": [
      "<class 'pandas.core.frame.DataFrame'>\n",
      "RangeIndex: 4000 entries, 0 to 3999\n",
      "Data columns (total 11 columns):\n",
      " #   Column                  Non-Null Count  Dtype  \n",
      "---  ------                  --------------  -----  \n",
      " 0   location                3997 non-null   object \n",
      " 1   city                    3966 non-null   object \n",
      " 2   country                 4000 non-null   object \n",
      " 3   pollutant               4000 non-null   object \n",
      " 4   value                   4000 non-null   float64\n",
      " 5   timestamp               4000 non-null   object \n",
      " 6   unit                    4000 non-null   object \n",
      " 7   source_name             4000 non-null   object \n",
      " 8   latitude                4000 non-null   float64\n",
      " 9   longitude               4000 non-null   float64\n",
      " 10  averaged_over_in_hours  3634 non-null   float64\n",
      "dtypes: float64(4), object(7)\n",
      "memory usage: 343.9+ KB\n",
      "Info global_air_quality:\n",
      " None\n"
     ]
    }
   ],
   "source": [
    "# Melakukan pengecekan terhadap data\n",
    "print('Info global_air_quality:\\n', global_air_quality.info())"
   ]
  },
  {
   "cell_type": "markdown",
   "metadata": {},
   "source": [
    "3] Melakukan count tanpa groupby"
   ]
  },
  {
   "cell_type": "code",
   "execution_count": 53,
   "metadata": {},
   "outputs": [
    {
     "name": "stdout",
     "output_type": "stream",
     "text": [
      "Count tanpa groupby:\n",
      " location                  3997\n",
      "city                      3966\n",
      "country                   4000\n",
      "pollutant                 4000\n",
      "value                     4000\n",
      "timestamp                 4000\n",
      "unit                      4000\n",
      "source_name               4000\n",
      "latitude                  4000\n",
      "longitude                 4000\n",
      "averaged_over_in_hours    3634\n",
      "dtype: int64\n"
     ]
    }
   ],
   "source": [
    "# Melakukan count tanpa groupby\n",
    "print('Count tanpa groupby:\\n', global_air_quality.count())"
   ]
  },
  {
   "cell_type": "markdown",
   "metadata": {},
   "source": [
    "4] Melakukan count dengan groupby"
   ]
  },
  {
   "cell_type": "code",
   "execution_count": 54,
   "metadata": {},
   "outputs": [
    {
     "name": "stdout",
     "output_type": "stream",
     "text": [
      "Count dengan groupby (5 data teratas):\n",
      "              location  city  country  pollutant  value  timestamp  unit  \\\n",
      "source_name                                                               \n",
      "ARPALAZIO          72    72       72         72     72         72    72   \n",
      "Agaar.mn           27    27       27         27     27         27    27   \n",
      "AirNow           1712  1681     1715       1715   1715       1715  1715   \n",
      "Andalucia          71    71       71         71     71         71    71   \n",
      "Anqing              4     4        4          4      4          4     4   \n",
      "\n",
      "             latitude  longitude  averaged_over_in_hours  \n",
      "source_name                                               \n",
      "ARPALAZIO          72         72                      72  \n",
      "Agaar.mn           27         27                       0  \n",
      "AirNow           1715       1715                    1715  \n",
      "Andalucia          71         71                      71  \n",
      "Anqing              4          4                       4  \n"
     ]
    }
   ],
   "source": [
    "# Melakukan count dengan groupby \n",
    "gaq_groupby_count = global_air_quality.groupby('source_name').count()\n",
    "print('Count dengan groupby (5 data teratas):\\n', gaq_groupby_count.head())"
   ]
  },
  {
   "cell_type": "markdown",
   "metadata": {},
   "source": [
    "Terdapat perbedaan antara melakukan count dengan groupby dan tanpa groupby,\n",
    "\n",
    "1. Terdapat index apa yang di specify as groupby\n",
    "2. Perhitungan jadi berdasarkan apa yang di specify as groupby\n",
    "3. Overall, lebih mudah untuk membaca data summary yang telah di groupby"
   ]
  },
  {
   "cell_type": "markdown",
   "metadata": {},
   "source": [
    "### Groupby dan Aggregasi dengan Fungsi Statistik Dasar - Part 1\n",
    "Pada subbab ini akan menerapkan groupby dan fungsi aggregasi mean dan std untuk menentukan nilai rata-rata dan standar deviasi dari masing-masing kelompok data dari dataset https://dqlab-dataset.s3-ap-southeast-1.amazonaws.com/LO4/global_air_quality_4000rows.csv dan diassign sebagai variabel df_gaq.\n",
    "\n",
    "Akan buat variabel pollutant "
   ]
  },
  {
   "cell_type": "code",
   "execution_count": 55,
   "metadata": {},
   "outputs": [
    {
     "name": "stdout",
     "output_type": "stream",
     "text": [
      "Data pollutant (5 teratas):\n",
      "                      value                                     \n",
      "pollutant               bc      co   no2   o3   pm10  pm25  so2\n",
      "country city                                                   \n",
      "AR      Buenos Aires   0.0     0.0   0.0  0.0    0.0  18.1  0.0\n",
      "AU      Townsville     0.0     0.0   0.0  0.0    0.0   3.9  0.0\n",
      "BA      Goražde        0.0   141.0  19.0  8.0    0.0   0.0  0.0\n",
      "        Ilijaš         0.0     0.0   0.0  0.0  100.0   0.0  0.0\n",
      "        Jajce          0.0  1508.0  25.0  6.0    9.0   0.0  0.0\n"
     ]
    }
   ],
   "source": [
    "# Load data global_air_quality.csv\n",
    "gaq = pd.read_csv('https://dqlab-dataset.s3-ap-southeast-1.amazonaws.com/LO4/global_air_quality_4000rows.csv')\n",
    "# Create variabel pollutant \n",
    "pollutant = gaq[['country','city','pollutant','value']].pivot_table(index=['country','city'],columns='pollutant').fillna(0)\n",
    "print('Data pollutant (5 teratas):\\n', pollutant.head())"
   ]
  },
  {
   "cell_type": "markdown",
   "metadata": {},
   "source": [
    "1] Group berdasarkan country dan terapkan aggregasi mean, method .mean() setelah penerapan method .groupby() digunakan untuk mencari rata-rata dari tiap kelompok"
   ]
  },
  {
   "cell_type": "code",
   "execution_count": 56,
   "metadata": {},
   "outputs": [
    {
     "name": "stdout",
     "output_type": "stream",
     "text": [
      "Rata-rata pollutant (5 teratas):\n",
      "           value                                                         \\\n",
      "pollutant    bc          co        no2        o3       pm10       pm25   \n",
      "country                                                                  \n",
      "AR          0.0    0.000000   0.000000  0.000000   0.000000  18.100000   \n",
      "AU          0.0    0.000000   0.000000  0.000000   0.000000   3.900000   \n",
      "BA          0.0  475.833333  19.500000  5.833333  40.333333   0.000000   \n",
      "CA          0.0    0.036818   0.000355  0.025963   0.836364   3.433601   \n",
      "CL          0.0    0.000000  21.000000  0.000000   0.000000   0.000000   \n",
      "\n",
      "                      \n",
      "pollutant        so2  \n",
      "country               \n",
      "AR          0.000000  \n",
      "AU          0.000000  \n",
      "BA         18.000000  \n",
      "CA          0.000091  \n",
      "CL          0.000000  \n"
     ]
    }
   ],
   "source": [
    "# [1] Group berdasarkan country dan terapkan aggregasi mean\n",
    "pollutant_mean = pollutant.groupby('country').mean()\n",
    "print('Rata-rata pollutant (5 teratas):\\n', pollutant_mean.head())"
   ]
  },
  {
   "cell_type": "markdown",
   "metadata": {},
   "source": [
    "2] Group berdasarkan country dan terapkan aggregasi std, method .std() setelah penerapan method .groupby() digunakan untuk mencari standard deviasi (penyimpangan) dari tiap kelompok"
   ]
  },
  {
   "cell_type": "code",
   "execution_count": 57,
   "metadata": {},
   "outputs": [
    {
     "name": "stdout",
     "output_type": "stream",
     "text": [
      "Standar deviasi pollutant (5 teratas):\n",
      "           value                                                        \\\n",
      "pollutant    bc          co        no2        o3       pm10      pm25   \n",
      "country                                                                 \n",
      "AR          0.0    0.000000   0.000000  0.000000   0.000000  0.000000   \n",
      "AU          0.0    0.000000   0.000000  0.000000   0.000000  0.000000   \n",
      "BA          0.0  536.925476  11.945711  8.207720  46.701891  0.000000   \n",
      "CA          0.0    0.089841   0.000750  0.019323   1.713052  2.286509   \n",
      "CL          0.0    0.000000   0.000000  0.000000   0.000000  0.000000   \n",
      "\n",
      "                      \n",
      "pollutant        so2  \n",
      "country               \n",
      "AR          0.000000  \n",
      "AU          0.000000  \n",
      "BA         30.403947  \n",
      "CA          0.000302  \n",
      "CL          0.000000  \n"
     ]
    }
   ],
   "source": [
    "# [2] Group berdasarkan country dan terapkan aggregasi std\n",
    "pollutant_std = pollutant.groupby('country').std().fillna(0)\n",
    "print('Standar deviasi pollutant (5 teratas):\\n', pollutant_std.head())"
   ]
  },
  {
   "cell_type": "markdown",
   "metadata": {},
   "source": [
    "3] Group berdasarkan country dan terapkan aggregasi sum, method .sum() setelah penerapan method .groupby() digunakan untuk mencari total nilai dari tiap kelompok"
   ]
  },
  {
   "cell_type": "code",
   "execution_count": 58,
   "metadata": {},
   "outputs": [
    {
     "name": "stdout",
     "output_type": "stream",
     "text": [
      "Total pollutant (5 teratas):\n",
      "           value                                                          \n",
      "pollutant    bc        co       no2         o3   pm10       pm25      so2\n",
      "country                                                                  \n",
      "AR          0.0     0.000    0.0000   0.000000    0.0  18.100000    0.000\n",
      "AU          0.0     0.000    0.0000   0.000000    0.0   3.900000    0.000\n",
      "BA          0.0  2855.000  117.0000  35.000000  242.0   0.000000  108.000\n",
      "CA          0.0     0.405    0.0039   0.285593    9.2  37.769608    0.001\n",
      "CL          0.0     0.000   21.0000   0.000000    0.0   0.000000    0.000\n"
     ]
    }
   ],
   "source": [
    "# [3] Group berdasarkan country dan terapkan aggregasi sum\n",
    "pollutant_sum = pollutant.groupby('country').sum()\n",
    "print('Total pollutant (5 teratas):\\n', pollutant_sum.head())"
   ]
  },
  {
   "cell_type": "markdown",
   "metadata": {},
   "source": [
    "4] Group berdasarkan country dan terapkan aggregasi nunique, method .nunique() setelah penerapan method .groupby() digunakan untuk mencari berapakah jumlah unique value dari tiap kelompok"
   ]
  },
  {
   "cell_type": "code",
   "execution_count": 59,
   "metadata": {},
   "outputs": [
    {
     "name": "stdout",
     "output_type": "stream",
     "text": [
      "Jumlah unique value pollutant (5 teratas):\n",
      "           value                        \n",
      "pollutant    bc co no2 o3 pm10 pm25 so2\n",
      "country                                \n",
      "AR            1  1   1  1    1    1   1\n",
      "AU            1  1   1  1    1    1   1\n",
      "BA            1  6   6  4    5    1   4\n",
      "CA            1  3   4  9    4   10   2\n",
      "CL            1  1   1  1    1    1   1\n"
     ]
    }
   ],
   "source": [
    "# [4] Group berdasarkan country dan terapkan aggregasi nunique\n",
    "pollutant_nunique = pollutant.groupby('country').nunique()\n",
    "print('Jumlah unique value pollutant (5 teratas):\\n', pollutant_nunique.head())"
   ]
  },
  {
   "cell_type": "markdown",
   "metadata": {},
   "source": [
    "5] Group berdasarkan country dan terapkan aggregasi min, method .min() setelah penerapan method .groupby() digunakan untuk memunculkan nilai terkecil dari tiap kelompok"
   ]
  },
  {
   "cell_type": "code",
   "execution_count": 60,
   "metadata": {},
   "outputs": [
    {
     "name": "stdout",
     "output_type": "stream",
     "text": [
      "Item pertama pollutant (5 teratas):\n",
      "           value                                            \n",
      "pollutant    bc       co      no2        o3 pm10  pm25  so2\n",
      "country                                                    \n",
      "AR          0.0    0.000   0.0000  0.000000  0.0  18.1  0.0\n",
      "AU          0.0    0.000   0.0000  0.000000  0.0   3.9  0.0\n",
      "BA          0.0  141.000  19.0000  8.000000  0.0   0.0  0.0\n",
      "CA          0.0    0.285   0.0024  0.048333  0.0   3.9  0.0\n",
      "CL          0.0    0.000  21.0000  0.000000  0.0   0.0  0.0\n"
     ]
    }
   ],
   "source": [
    "# [5] Group berdasarkan country dan terapkan aggregasi first\n",
    "pollutant_first = pollutant.groupby('country').first()\n",
    "print('Item pertama pollutant (5 teratas):\\n', pollutant_first.head())\n"
   ]
  },
  {
   "cell_type": "markdown",
   "metadata": {},
   "source": [
    "6] Group berdasarkan country dan terapkan aggregasi max, method .max() setelah penerapan method .groupby() digunakan untuk memunculkan nilai terbesar dari tiap kelompok"
   ]
  },
  {
   "cell_type": "code",
   "execution_count": 61,
   "metadata": {},
   "outputs": [
    {
     "name": "stdout",
     "output_type": "stream",
     "text": [
      "Item terakhir pollutant (5 teratas):\n",
      "           value                                      \n",
      "pollutant    bc     co   no2     o3  pm10  pm25   so2\n",
      "country                                              \n",
      "AR          0.0    0.0   0.0  0.000   0.0  18.1   0.0\n",
      "AU          0.0    0.0   0.0  0.000   0.0   3.9   0.0\n",
      "BA          0.0  292.0  29.0  0.000  96.0   0.0  78.0\n",
      "CA          0.0    0.0   0.0  0.036   3.0   0.0   0.0\n",
      "CL          0.0    0.0  21.0  0.000   0.0   0.0   0.0\n"
     ]
    }
   ],
   "source": [
    "# Group berdasarkan country dan terapkan aggregasi last\n",
    "pollutant_last = pollutant.groupby('country').last()\n",
    "print('Item terakhir pollutant (5 teratas):\\n', pollutant_last.head())"
   ]
  },
  {
   "cell_type": "markdown",
   "metadata": {},
   "source": [
    "### Groupby dengan Multiple Aggregations\n",
    "Kali ini akan menggunakan grouby dengan multiple aggregations yang berupa kombinasi antara beberapa fungsi. Mari perhatikan contoh berikut ini"
   ]
  },
  {
   "cell_type": "code",
   "execution_count": 62,
   "metadata": {
    "scrolled": true
   },
   "outputs": [
    {
     "name": "stdout",
     "output_type": "stream",
     "text": [
      "Multiple aggregations (5 teratas):\n",
      "         value                                                                  \\\n",
      "           bc                    co                                no2          \n",
      "          min median mean  max  min median        mean       max   min median   \n",
      "country                                                                         \n",
      "AR        0.0    0.0  0.0  0.0  0.0    0.0    0.000000     0.000   0.0    0.0   \n",
      "AU        0.0    0.0  0.0  0.0  0.0    0.0    0.000000     0.000   0.0    0.0   \n",
      "BA        0.0    0.0  0.0  0.0  0.0  355.0  475.833333  1508.000   0.0   22.0   \n",
      "CA        0.0    0.0  0.0  0.0  0.0    0.0    0.036818     0.285   0.0    0.0   \n",
      "CL        0.0    0.0  0.0  0.0  0.0    0.0    0.000000     0.000  21.0   21.0   \n",
      "\n",
      "         ...                                                              \\\n",
      "         ...       pm10         pm25                          so2          \n",
      "         ...       mean    max   min median       mean   max  min median   \n",
      "country  ...                                                               \n",
      "AR       ...   0.000000    0.0  18.1   18.1  18.100000  18.1  0.0    0.0   \n",
      "AU       ...   0.000000    0.0   3.9    3.9   3.900000   3.9  0.0    0.0   \n",
      "BA       ...  40.333333  100.0   0.0    0.0   0.000000   0.0  0.0    5.5   \n",
      "CA       ...   0.836364    5.2   0.0    4.0   3.433601   6.0  0.0    0.0   \n",
      "CL       ...   0.000000    0.0   0.0    0.0   0.000000   0.0  0.0    0.0   \n",
      "\n",
      "                            \n",
      "                            \n",
      "              mean     max  \n",
      "country                     \n",
      "AR        0.000000   0.000  \n",
      "AU        0.000000   0.000  \n",
      "BA       18.000000  78.000  \n",
      "CA        0.000091   0.001  \n",
      "CL        0.000000   0.000  \n",
      "\n",
      "[5 rows x 28 columns]\n"
     ]
    }
   ],
   "source": [
    "# Group berdasarkan country dan terapkan aggregasi: min, median, mean, max\n",
    "multiagg = pollutant.groupby('country').agg(['min','median','mean','max'])\n",
    "print('Multiple aggregations (5 teratas):\\n', multiagg.head())"
   ]
  },
  {
   "cell_type": "markdown",
   "metadata": {},
   "source": [
    "### Groupby dengan Custom Aggregations\n",
    "Dengan membuat sebuah Python function (user defined) dapat menggunakan sebagai custom aggregation pada dataframe yang telah digroupby."
   ]
  },
  {
   "cell_type": "code",
   "execution_count": 63,
   "metadata": {},
   "outputs": [
    {
     "name": "stdout",
     "output_type": "stream",
     "text": [
      "Custom aggregation (5 teratas):\n",
      "         value                                                  \n",
      "           bc      co       no2        o3  pm10      pm25   so2\n",
      "country                                                        \n",
      "AR        0.0    0.00   0.00000  0.000000   0.0  0.000000   0.0\n",
      "AU        0.0    0.00   0.00000  0.000000   0.0  0.000000   0.0\n",
      "BA        0.0  297.75  14.25000  7.500000  79.0  0.000000  17.0\n",
      "CA        0.0    0.00   0.00025  0.035708   0.5  3.876471   0.0\n",
      "CL        0.0    0.00   0.00000  0.000000   0.0  0.000000   0.0\n"
     ]
    }
   ],
   "source": [
    "# Create sebuah function: iqr\n",
    "def iqr(series):\n",
    "\tQ1 = series.quantile(0.25)\n",
    "\tQ3 = series.quantile(0.75)\n",
    "\treturn Q3 - Q1\n",
    "# Group berdasarkan country dan terapkan aggregasi dari function: iqr\n",
    "custom_agg = pollutant.groupby('country').agg(iqr)\n",
    "print('Custom aggregation (5 teratas):\\n', custom_agg.head())"
   ]
  },
  {
   "cell_type": "markdown",
   "metadata": {},
   "source": [
    "### Groupby dengan Custom Aggregations by dict\n",
    "Penggunaan custom aggregation lainnya pada dataframe yang telah digroupby dapat dilakukan dengan mempasskan sebuah dict yang berisi 'key' dict sebagai nama kolomnya dan 'value' dict adalah fungsi untuk aggregasi, baik user defined function atau yang telah tersedia. Telah dimiliki dataset yang akan di apply teknik custom aggregation dengan menggunakan dict ini yaitu Akan apply teknik custom aggregation pada kolom 'o3' dan 'so' dengan fungsi aggregasi masing-masingnya adalah 'max' dan 'data_range'. Fungsi 'data_range' ini merupakan fungsi yang didefinisikan sendiri (user-defined) untuk menentukan jangkauan (range) data."
   ]
  },
  {
   "cell_type": "code",
   "execution_count": 64,
   "metadata": {},
   "outputs": [
    {
     "name": "stdout",
     "output_type": "stream",
     "text": [
      "\n",
      "Cetak 5 data teratas custom_agg_dict:\n",
      "                 o3     so2\n",
      "country                   \n",
      "AR        0.000000   0.000\n",
      "AU        0.000000   0.000\n",
      "BA       21.000000  78.000\n",
      "CA        0.048333   0.001\n",
      "CL        0.000000   0.000\n"
     ]
    }
   ],
   "source": [
    "# Function IQR\n",
    "def data_range(series):\n",
    "\treturn series.max() - series.min()\n",
    "# Create custom aggregation using dict\n",
    "custom_agg_dict = pollutant['value'][['o3','so2']].groupby('country').agg({\n",
    "   'o3':'max',\n",
    "   'so2':data_range\n",
    "})\n",
    "print('\\nCetak 5 data teratas custom_agg_dict:\\n', custom_agg_dict.head())"
   ]
  },
  {
   "cell_type": "code",
   "execution_count": 65,
   "metadata": {
    "scrolled": true
   },
   "outputs": [
    {
     "name": "stdout",
     "output_type": "stream",
     "text": [
      "\n",
      "Cetak 5 data teratas custom_agg_dict:\n",
      "          pm10      pm25   so2\n",
      "country                      \n",
      "AR        0.0  0.000000   0.0\n",
      "AU        0.0  0.000000   0.0\n",
      "BA       23.0  0.000000  17.0\n",
      "CA        0.0  3.876471   0.0\n",
      "CL        0.0  0.000000   0.0\n"
     ]
    }
   ],
   "source": [
    "# Function IQR\n",
    "def iqr(series):\n",
    "\treturn series.quantile(0.75) - series.quantile(0.25)\n",
    "# Create custom aggregation using dict\n",
    "custom_agg_dict = pollutant['value'][['pm10','pm25','so2']].groupby('country').agg({\n",
    "   'pm10':'median',\n",
    "   'pm25':iqr,\n",
    "    'so2':iqr\n",
    "})\n",
    "print('\\nCetak 5 data teratas custom_agg_dict:\\n', custom_agg_dict.head())"
   ]
  },
  {
   "cell_type": "markdown",
   "metadata": {},
   "source": [
    "## Time Series in Pandas\n",
    "Basic format datetime menurut ISO 8601 yaitu YYYY-mm-dd HH:MM:SS.\n",
    "<br>\n",
    "<br>\n",
    "\n",
    "###  Load Dataset as Time Series\n",
    "Terkadang Pandas salah mengenali object datetime menjadi object string dan pandas menjadi tidak bisa memanfaatkan full benefit dari time index.\n",
    "\n",
    "Basic format datetime menurut ISO 8601: YYYY-mm-dd HH:MM:SS.\n",
    "Terdapat beberapa cara untuk mengubah kolom waktu menjadi format yang benar as datetime object di Pandas. \n",
    "\n",
    "[1] read_csv, terdapat keyword argument 'parse_dates', yang jika di set True dan set index untuk kolom waktu tersebut maka kolom datetime tersebut akan transform as datetime Pandas dan menjadi index"
   ]
  },
  {
   "cell_type": "code",
   "execution_count": 66,
   "metadata": {},
   "outputs": [
    {
     "name": "stdout",
     "output_type": "stream",
     "text": [
      "                                                  location       city country  \\\n",
      "timestamp                                                                       \n",
      "2017-01-18 16:00:00+00:00                  MOBILE-KICKAPOO    LINCOLN      US   \n",
      "2020-04-07 20:00:00+00:00                  Oxford St Ebbes     Oxford      GB   \n",
      "2020-04-07 19:00:00+00:00                 BROADWAY (South)  St. Louis      US   \n",
      "2020-04-07 18:30:00+00:00  Deen Dayal Nagar, Sagar - MPPCB      Sagar      IN   \n",
      "2020-04-07 20:00:00+00:00                        Manglerud       Oslo      NO   \n",
      "\n",
      "                          pollutant  value   unit source_name   latitude  \\\n",
      "timestamp                                                                  \n",
      "2017-01-18 16:00:00+00:00      pm10   7.00  µg/m³      AirNow  35.488400   \n",
      "2020-04-07 20:00:00+00:00       no2  30.00  µg/m³       DEFRA  51.744804   \n",
      "2020-04-07 19:00:00+00:00      pm25   6.10  µg/m³      AirNow  38.542500   \n",
      "2020-04-07 18:30:00+00:00      pm25  23.67  µg/m³       caaqm  23.864016   \n",
      "2020-04-07 20:00:00+00:00      pm10  27.06  µg/m³      Norway  59.898690   \n",
      "\n",
      "                           longitude  averaged_over_in_hours  \n",
      "timestamp                                                     \n",
      "2017-01-18 16:00:00+00:00 -97.090280                    1.00  \n",
      "2020-04-07 20:00:00+00:00  -1.260278                    1.00  \n",
      "2020-04-07 19:00:00+00:00 -90.263610                    1.00  \n",
      "2020-04-07 18:30:00+00:00  78.802895                    0.25  \n",
      "2020-04-07 20:00:00+00:00  10.814950                    1.00  \n",
      "info\n",
      "<class 'pandas.core.frame.DataFrame'>\n",
      "DatetimeIndex: 4000 entries, 2017-01-18 16:00:00+00:00 to 2017-01-08 08:00:00+00:00\n",
      "Data columns (total 10 columns):\n",
      " #   Column                  Non-Null Count  Dtype  \n",
      "---  ------                  --------------  -----  \n",
      " 0   location                3997 non-null   object \n",
      " 1   city                    3966 non-null   object \n",
      " 2   country                 4000 non-null   object \n",
      " 3   pollutant               4000 non-null   object \n",
      " 4   value                   4000 non-null   float64\n",
      " 5   unit                    4000 non-null   object \n",
      " 6   source_name             4000 non-null   object \n",
      " 7   latitude                4000 non-null   float64\n",
      " 8   longitude               4000 non-null   float64\n",
      " 9   averaged_over_in_hours  3634 non-null   float64\n",
      "dtypes: float64(4), object(6)\n",
      "memory usage: 343.8+ KB\n",
      "None\n"
     ]
    }
   ],
   "source": [
    "# Load dataset https://dqlab-dataset.s3-ap-southeast-1.amazonaws.com/LO4/global_air_quality_4000rows.csv\n",
    "gaq = pd.read_csv('https://dqlab-dataset.s3-ap-southeast-1.amazonaws.com/LO4/global_air_quality_4000rows.csv', parse_dates=True, index_col='timestamp')\n",
    "# Cetak 5 data teratas\n",
    "print(gaq.head())\n",
    "# Cetak info dari dataframe gaq\n",
    "print('info')\n",
    "print(gaq.info())"
   ]
  },
  {
   "cell_type": "markdown",
   "metadata": {},
   "source": [
    "### Convert to Datetime\n",
    "Jika dataset yang telah terlebih dahulu atau telah terlanjur di load dengan pd.read_csv dan Pandas salah mengenali object datetime menjadi object string, maka dapat mengubah kolom tertentu dari dataset tersebut menjadi format datetime.\n",
    "\n",
    " \n",
    "\n",
    "[2] pd.to_datetime digunakan untuk mentransform salah satu kolom di dataframe menjadi datetime Pandas dan kemudian set menjadi index. Mari perhatikan kembali contoh berikut"
   ]
  },
  {
   "cell_type": "code",
   "execution_count": 67,
   "metadata": {},
   "outputs": [
    {
     "name": "stdout",
     "output_type": "stream",
     "text": [
      "Sebelum diubah dalam format datetime:\n",
      "                           location       city country pollutant  value  \\\n",
      "0                  MOBILE-KICKAPOO    LINCOLN      US      pm10   7.00   \n",
      "1                  Oxford St Ebbes     Oxford      GB       no2  30.00   \n",
      "2                 BROADWAY (South)  St. Louis      US      pm25   6.10   \n",
      "3  Deen Dayal Nagar, Sagar - MPPCB      Sagar      IN      pm25  23.67   \n",
      "4                        Manglerud       Oslo      NO      pm10  27.06   \n",
      "\n",
      "                 timestamp   unit source_name   latitude  longitude  \\\n",
      "0  2017-01-18 16:00:00 UTC  µg/m³      AirNow  35.488400 -97.090280   \n",
      "1  2020-04-07 20:00:00 UTC  µg/m³       DEFRA  51.744804  -1.260278   \n",
      "2  2020-04-07 19:00:00 UTC  µg/m³      AirNow  38.542500 -90.263610   \n",
      "3  2020-04-07 18:30:00 UTC  µg/m³       caaqm  23.864016  78.802895   \n",
      "4  2020-04-07 20:00:00 UTC  µg/m³      Norway  59.898690  10.814950   \n",
      "\n",
      "   averaged_over_in_hours  \n",
      "0                    1.00  \n",
      "1                    1.00  \n",
      "2                    1.00  \n",
      "3                    0.25  \n",
      "4                    1.00  \n",
      "Sesudah diubah dalam format datetime:\n",
      "                                                   location       city country  \\\n",
      "timestamp                                                                       \n",
      "2017-01-18 16:00:00+00:00                  MOBILE-KICKAPOO    LINCOLN      US   \n",
      "2020-04-07 20:00:00+00:00                  Oxford St Ebbes     Oxford      GB   \n",
      "2020-04-07 19:00:00+00:00                 BROADWAY (South)  St. Louis      US   \n",
      "2020-04-07 18:30:00+00:00  Deen Dayal Nagar, Sagar - MPPCB      Sagar      IN   \n",
      "2020-04-07 20:00:00+00:00                        Manglerud       Oslo      NO   \n",
      "\n",
      "                          pollutant  value   unit source_name   latitude  \\\n",
      "timestamp                                                                  \n",
      "2017-01-18 16:00:00+00:00      pm10   7.00  µg/m³      AirNow  35.488400   \n",
      "2020-04-07 20:00:00+00:00       no2  30.00  µg/m³       DEFRA  51.744804   \n",
      "2020-04-07 19:00:00+00:00      pm25   6.10  µg/m³      AirNow  38.542500   \n",
      "2020-04-07 18:30:00+00:00      pm25  23.67  µg/m³       caaqm  23.864016   \n",
      "2020-04-07 20:00:00+00:00      pm10  27.06  µg/m³      Norway  59.898690   \n",
      "\n",
      "                           longitude  averaged_over_in_hours  \n",
      "timestamp                                                     \n",
      "2017-01-18 16:00:00+00:00 -97.090280                    1.00  \n",
      "2020-04-07 20:00:00+00:00  -1.260278                    1.00  \n",
      "2020-04-07 19:00:00+00:00 -90.263610                    1.00  \n",
      "2020-04-07 18:30:00+00:00  78.802895                    0.25  \n",
      "2020-04-07 20:00:00+00:00  10.814950                    1.00  \n"
     ]
    }
   ],
   "source": [
    "# Load dataset https://dqlab-dataset.s3-ap-southeast-1.amazonaws.com/LO4/global_air_quality_4000rows.csv\n",
    "gaq = pd.read_csv('https://dqlab-dataset.s3-ap-southeast-1.amazonaws.com/LO4/global_air_quality_4000rows.csv')\n",
    "# Cetak 5 data teratas\n",
    "print('Sebelum diubah dalam format datetime:\\n', gaq.head())\n",
    "# Ubah menjadi datetime\n",
    "gaq['timestamp'] = pd.to_datetime(gaq['timestamp'])\n",
    "gaq = gaq.set_index('timestamp')\n",
    "# Cetak 5 data teratas\n",
    "print('Sesudah diubah dalam format datetime:\\n', gaq.head())"
   ]
  },
  {
   "cell_type": "markdown",
   "metadata": {},
   "source": [
    "Resampling untuk Time Series Data\n",
    "Pandas time series juga memiliki fungsi resampling yang dapat berguna untuk:\n",
    "\n",
    "[1] Downsampling\n",
    "\n",
    "Mengurangi baris datetime menjadi frekuensi yang lebih lambat, bisa dibilang juga mengurangi rows dataset menjadi lebih sedikit\n",
    "\n",
    "Contoh: mengubah kolom datetime yang awalnya daily menjadi monthly\n",
    "\n",
    " \n",
    "\n",
    "[2] Upsampling\n",
    "\n",
    "Kebalikan dari downsampling, menambah baris datetime menjadi frekuensi yang lebih cepat, menambah rows dataset dengan membuat kolom datetime menjadi lebih detail\n",
    "\n",
    "Contoh: mengubah kolom datetime yang awalnya daily menjadi hourly\n",
    "\n",
    " \n",
    "\n",
    "Dari Resampling ini, kemudian dapat menerapkan metode statistik untuk transform value data yang ada (ex: mean, sum, count, etc)\n",
    "\n",
    " \n",
    "\n",
    "Tabel resampling untuk time series:\n",
    "\n",
    "| Input     | Description   |\n",
    "|-----------|---------------|\n",
    "|   Min, T  | minute        |\n",
    "|   H       | hour          |\n",
    "|   D       | day           |\n",
    "|   B       | business day  |\n",
    "|   W       | week          |\n",
    "|   M       | month         |\n",
    "|   Q       | quarter       |\n",
    "|   A       | year          |\n",
    "\n"
   ]
  },
  {
   "cell_type": "markdown",
   "metadata": {},
   "source": [
    "### Downsampling Data\n",
    "Perhatikan dataset awal:\n"
   ]
  },
  {
   "cell_type": "code",
   "execution_count": 68,
   "metadata": {},
   "outputs": [
    {
     "name": "stdout",
     "output_type": "stream",
     "text": [
      "Dataset sebelum di-downsampling (5 teratas):\n",
      "                                                   location       city country  \\\n",
      "timestamp                                                                       \n",
      "2017-01-18 16:00:00+00:00                  MOBILE-KICKAPOO    LINCOLN      US   \n",
      "2020-04-07 20:00:00+00:00                  Oxford St Ebbes     Oxford      GB   \n",
      "2020-04-07 19:00:00+00:00                 BROADWAY (South)  St. Louis      US   \n",
      "2020-04-07 18:30:00+00:00  Deen Dayal Nagar, Sagar - MPPCB      Sagar      IN   \n",
      "2020-04-07 20:00:00+00:00                        Manglerud       Oslo      NO   \n",
      "\n",
      "                          pollutant  value   unit source_name   latitude  \\\n",
      "timestamp                                                                  \n",
      "2017-01-18 16:00:00+00:00      pm10   7.00  µg/m³      AirNow  35.488400   \n",
      "2020-04-07 20:00:00+00:00       no2  30.00  µg/m³       DEFRA  51.744804   \n",
      "2020-04-07 19:00:00+00:00      pm25   6.10  µg/m³      AirNow  38.542500   \n",
      "2020-04-07 18:30:00+00:00      pm25  23.67  µg/m³       caaqm  23.864016   \n",
      "2020-04-07 20:00:00+00:00      pm10  27.06  µg/m³      Norway  59.898690   \n",
      "\n",
      "                           longitude  averaged_over_in_hours  \n",
      "timestamp                                                     \n",
      "2017-01-18 16:00:00+00:00 -97.090280                    1.00  \n",
      "2020-04-07 20:00:00+00:00  -1.260278                    1.00  \n",
      "2020-04-07 19:00:00+00:00 -90.263610                    1.00  \n",
      "2020-04-07 18:30:00+00:00  78.802895                    0.25  \n",
      "2020-04-07 20:00:00+00:00  10.814950                    1.00  \n"
     ]
    }
   ],
   "source": [
    "# Load dataset https://dqlab-dataset.s3-ap-southeast-1.amazonaws.com/LO4/global_air_quality_4000rows.csv\n",
    "gaq = pd.read_csv('https://dqlab-dataset.s3-ap-southeast-1.amazonaws.com/LO4/global_air_quality_4000rows.csv')\n",
    "gaq['timestamp'] = pd.to_datetime(gaq['timestamp'])\n",
    "gaq = gaq.set_index('timestamp')\n",
    "print('Dataset sebelum di-downsampling (5 teratas):\\n', gaq.head())"
   ]
  },
  {
   "cell_type": "markdown",
   "metadata": {},
   "source": [
    "Dengan men-downsampling dari\n",
    "\n",
    "[1] Daily to monthly"
   ]
  },
  {
   "cell_type": "markdown",
   "metadata": {},
   "source": [
    "[2] Daily to Yearly"
   ]
  },
  {
   "cell_type": "code",
   "execution_count": 69,
   "metadata": {},
   "outputs": [
    {
     "name": "stdout",
     "output_type": "stream",
     "text": [
      "Downsampling daily to monthly - max (5 teratas):\n",
      "                                 value   latitude  longitude  \\\n",
      "timestamp                                                     \n",
      "2014-12-31 00:00:00+00:00    8.400000  25.883500  17.466000   \n",
      "2015-12-31 00:00:00+00:00   45.601400  13.517631  44.485490   \n",
      "2016-12-31 00:00:00+00:00  126.182104  35.244884 -76.952637   \n",
      "2017-12-31 00:00:00+00:00  181.813031  41.906769 -36.577398   \n",
      "2018-12-31 00:00:00+00:00 -509.570685  36.316255  22.163101   \n",
      "\n",
      "                           averaged_over_in_hours  \n",
      "timestamp                                          \n",
      "2014-12-31 00:00:00+00:00                1.000000  \n",
      "2015-12-31 00:00:00+00:00                4.285714  \n",
      "2016-12-31 00:00:00+00:00                1.913889  \n",
      "2017-12-31 00:00:00+00:00                1.343182  \n",
      "2018-12-31 00:00:00+00:00                2.378704  \n"
     ]
    }
   ],
   "source": [
    "# [1] Downsampling dari daily to yearly dan kita hitung maksimum untuk setahun\n",
    "gaq_yearly = gaq.resample('A').mean()\n",
    "print('Downsampling daily to monthly - max (5 teratas):\\n', gaq_yearly.head())"
   ]
  },
  {
   "cell_type": "markdown",
   "metadata": {},
   "source": [
    "## Upsampling Data\n",
    "Di bagian sebelumnya kita telah melakukan proses downsampling. Proses upsampling akan kita bahas dalam bagian untuk dataset yang masih sama."
   ]
  },
  {
   "cell_type": "code",
   "execution_count": 70,
   "metadata": {},
   "outputs": [
    {
     "name": "stdout",
     "output_type": "stream",
     "text": [
      "Dataset sebelum di-upsampling (5 teratas):\n",
      "                                                   location       city country  \\\n",
      "timestamp                                                                       \n",
      "2017-01-18 16:00:00+00:00                  MOBILE-KICKAPOO    LINCOLN      US   \n",
      "2020-04-07 20:00:00+00:00                  Oxford St Ebbes     Oxford      GB   \n",
      "2020-04-07 19:00:00+00:00                 BROADWAY (South)  St. Louis      US   \n",
      "2020-04-07 18:30:00+00:00  Deen Dayal Nagar, Sagar - MPPCB      Sagar      IN   \n",
      "2020-04-07 20:00:00+00:00                        Manglerud       Oslo      NO   \n",
      "\n",
      "                          pollutant  value   unit source_name   latitude  \\\n",
      "timestamp                                                                  \n",
      "2017-01-18 16:00:00+00:00      pm10   7.00  µg/m³      AirNow  35.488400   \n",
      "2020-04-07 20:00:00+00:00       no2  30.00  µg/m³       DEFRA  51.744804   \n",
      "2020-04-07 19:00:00+00:00      pm25   6.10  µg/m³      AirNow  38.542500   \n",
      "2020-04-07 18:30:00+00:00      pm25  23.67  µg/m³       caaqm  23.864016   \n",
      "2020-04-07 20:00:00+00:00      pm10  27.06  µg/m³      Norway  59.898690   \n",
      "\n",
      "                           longitude  averaged_over_in_hours  \n",
      "timestamp                                                     \n",
      "2017-01-18 16:00:00+00:00 -97.090280                    1.00  \n",
      "2020-04-07 20:00:00+00:00  -1.260278                    1.00  \n",
      "2020-04-07 19:00:00+00:00 -90.263610                    1.00  \n",
      "2020-04-07 18:30:00+00:00  78.802895                    0.25  \n",
      "2020-04-07 20:00:00+00:00  10.814950                    1.00  \n",
      "Upsampling daily to hourly - mean (5 teratas):\n",
      "                            value  latitude  longitude  averaged_over_in_hours\n",
      "timestamp                                                                    \n",
      "2014-05-13 03:00:00+00:00    9.7    14.635     121.08                     1.0\n",
      "2014-05-13 04:00:00+00:00    NaN       NaN        NaN                     NaN\n",
      "2014-05-13 05:00:00+00:00    NaN       NaN        NaN                     NaN\n",
      "2014-05-13 06:00:00+00:00    NaN       NaN        NaN                     NaN\n",
      "2014-05-13 07:00:00+00:00    NaN       NaN        NaN                     NaN\n"
     ]
    }
   ],
   "source": [
    "# Load dataset https://dqlab-dataset.s3-ap-southeast-1.amazonaws.com/LO4/global_air_quality_4000rows.csv\n",
    "gaq = pd.read_csv('https://dqlab-dataset.s3-ap-southeast-1.amazonaws.com/LO4/global_air_quality_4000rows.csv')\n",
    "gaq['timestamp'] = pd.to_datetime(gaq['timestamp'])\n",
    "gaq = gaq.set_index('timestamp')\n",
    "print('Dataset sebelum di-upsampling (5 teratas):\\n', gaq.head())\n",
    "# Upsampling dari daily to hourly dan kita hitung reratanya\n",
    "gaq_hourly = gaq.resample('H').mean()\n",
    "print('Upsampling daily to hourly - mean (5 teratas):\\n', gaq_hourly.head())"
   ]
  },
  {
   "cell_type": "markdown",
   "metadata": {},
   "source": [
    "## Resampling by Frequency\n",
    "Pada bagian ini akan mempelajari bagaimanakah caranya me-resampling data (baik upsampling atau downsampling) berdasarkan frekuensi, misalnya sekali 2 minggu, tiap 12 jam, dsb.\n",
    "\n",
    "Kondisi awal data yang dimiliki :"
   ]
  },
  {
   "cell_type": "code",
   "execution_count": 71,
   "metadata": {},
   "outputs": [
    {
     "name": "stdout",
     "output_type": "stream",
     "text": [
      "Dataset sebelum di-repsampling (5 teratas):\n",
      "                                                   location       city country  \\\n",
      "timestamp                                                                       \n",
      "2017-01-18 16:00:00+00:00                  MOBILE-KICKAPOO    LINCOLN      US   \n",
      "2020-04-07 20:00:00+00:00                  Oxford St Ebbes     Oxford      GB   \n",
      "2020-04-07 19:00:00+00:00                 BROADWAY (South)  St. Louis      US   \n",
      "2020-04-07 18:30:00+00:00  Deen Dayal Nagar, Sagar - MPPCB      Sagar      IN   \n",
      "2020-04-07 20:00:00+00:00                        Manglerud       Oslo      NO   \n",
      "\n",
      "                          pollutant  value   unit source_name   latitude  \\\n",
      "timestamp                                                                  \n",
      "2017-01-18 16:00:00+00:00      pm10   7.00  µg/m³      AirNow  35.488400   \n",
      "2020-04-07 20:00:00+00:00       no2  30.00  µg/m³       DEFRA  51.744804   \n",
      "2020-04-07 19:00:00+00:00      pm25   6.10  µg/m³      AirNow  38.542500   \n",
      "2020-04-07 18:30:00+00:00      pm25  23.67  µg/m³       caaqm  23.864016   \n",
      "2020-04-07 20:00:00+00:00      pm10  27.06  µg/m³      Norway  59.898690   \n",
      "\n",
      "                           longitude  averaged_over_in_hours  \n",
      "timestamp                                                     \n",
      "2017-01-18 16:00:00+00:00 -97.090280                    1.00  \n",
      "2020-04-07 20:00:00+00:00  -1.260278                    1.00  \n",
      "2020-04-07 19:00:00+00:00 -90.263610                    1.00  \n",
      "2020-04-07 18:30:00+00:00  78.802895                    0.25  \n",
      "2020-04-07 20:00:00+00:00  10.814950                    1.00  \n"
     ]
    }
   ],
   "source": [
    "# Load dataset https://dqlab-dataset.s3-ap-southeast-1.amazonaws.com/LO4/global_air_quality_4000rows.csv\n",
    "gaq = pd.read_csv('https://dqlab-dataset.s3-ap-southeast-1.amazonaws.com/LO4/global_air_quality_4000rows.csv')\n",
    "gaq['timestamp'] = pd.to_datetime(gaq['timestamp'])\n",
    "gaq = gaq.set_index('timestamp')\n",
    "print('Dataset sebelum di-repsampling (5 teratas):\\n', gaq.head())"
   ]
  },
  {
   "cell_type": "markdown",
   "metadata": {},
   "source": [
    "Untuk memahaminya silakan perhatikan contoh berikut ini:\n",
    "\n",
    "[1] Data ini downsampling dari daily to 2 weekly, kemudian dihitung rata-ratanya, jika ada nilai NaN maka dapat diisi dengan fillna method = 'ffill'"
   ]
  },
  {
   "cell_type": "code",
   "execution_count": 72,
   "metadata": {},
   "outputs": [
    {
     "name": "stdout",
     "output_type": "stream",
     "text": [
      "Resampling daily to 2 monthly - mean - ffill (5 teratas):\n",
      "                            value  latitude  longitude  averaged_over_in_hours\n",
      "timestamp                                                                    \n",
      "2014-05-18 00:00:00+00:00    9.7    14.635     121.08                     1.0\n",
      "2014-06-01 00:00:00+00:00    9.7    14.635     121.08                     1.0\n",
      "2014-06-15 00:00:00+00:00    9.7    14.635     121.08                     1.0\n",
      "2014-06-29 00:00:00+00:00    9.7    14.635     121.08                     1.0\n",
      "2014-07-13 00:00:00+00:00    9.7    14.635     121.08                     1.0\n"
     ]
    }
   ],
   "source": [
    "# [1] Downsampling dari daily to 2 weekly, hitung rata-ratanya, dan fillna='ffill'\n",
    "gaq_2weekly = gaq.resample('2W').mean().fillna(method='ffill')\n",
    "print('Resampling daily to 2 monthly - mean - ffill (5 teratas):\\n', gaq_2weekly.head())"
   ]
  },
  {
   "cell_type": "markdown",
   "metadata": {},
   "source": [
    "[2] Selanjutnya, data awal di upsampling dari daily to 8 hourly, kemudian hitung rata-ratanya, jika ada nilai NaN maka dapat di isi dengan fillna method = 'bfill'"
   ]
  },
  {
   "cell_type": "code",
   "execution_count": 73,
   "metadata": {},
   "outputs": [
    {
     "name": "stdout",
     "output_type": "stream",
     "text": [
      "Resampling daily to 2 monthly - mean - bfill (5 teratas):\n",
      "                            value  latitude  longitude  averaged_over_in_hours\n",
      "timestamp                                                                    \n",
      "2014-05-13 00:00:00+00:00    9.7    14.635    121.080                     1.0\n",
      "2014-05-13 08:00:00+00:00    7.1    37.132    -86.148                     1.0\n",
      "2014-05-13 16:00:00+00:00    7.1    37.132    -86.148                     1.0\n",
      "2014-05-14 00:00:00+00:00    7.1    37.132    -86.148                     1.0\n",
      "2014-05-14 08:00:00+00:00    7.1    37.132    -86.148                     1.0\n"
     ]
    }
   ],
   "source": [
    "# [2] Upsampling dari daily to 8 hours, hitung rata-ratanya, dan fillna='bfill'\n",
    "gaq_2weekly = gaq.resample('8H').mean().fillna(method='bfill')\n",
    "print('Resampling daily to 2 monthly - mean - bfill (5 teratas):\\n', gaq_2weekly.head())"
   ]
  },
  {
   "cell_type": "code",
   "execution_count": 74,
   "metadata": {},
   "outputs": [
    {
     "name": "stdout",
     "output_type": "stream",
     "text": [
      "Resampling daily to 2 monthly - mean - ffill (5 teratas):\n",
      "                            value  latitude  longitude  averaged_over_in_hours\n",
      "timestamp                                                                    \n",
      "2014-05-31 00:00:00+00:00    9.7    14.635    121.080                     1.0\n",
      "2014-07-31 00:00:00+00:00    7.1    37.132    -86.148                     1.0\n",
      "2014-09-30 00:00:00+00:00    7.1    37.132    -86.148                     1.0\n",
      "2014-11-30 00:00:00+00:00   18.1   -34.560    -58.506                     1.0\n",
      "2015-01-31 00:00:00+00:00   18.1   -34.560    -58.506                     1.0\n"
     ]
    }
   ],
   "source": [
    "# Resample dari daily to 2 monthly, hitung reratanya, dan fillna = 'bfill'\n",
    "gaq_2monthly = gaq.resample('2M').mean().fillna(method='bfill')\n",
    "print('Resampling daily to 2 monthly - mean - ffill (5 teratas):\\n', gaq_2monthly.head())"
   ]
  },
  {
   "cell_type": "markdown",
   "metadata": {},
   "source": [
    "## Visualisasi\n",
    "Selanjutnya untuk memvisualisasikan dengan menggunakan library matplotlib dataframe yang telah diolah (seperti yang telah dipelajari dari bab pertama hingga subbab sebelumnya di bab ini).\n",
    "\n",
    " \n",
    "\n",
    "Terdapat beberapa plot styles yang dapat diterapkan dalam pembuatan visualisasi di matplotlib\n",
    "\n",
    "|Color  |Marker  |Line    |\n",
    "|-------|--------|--------|\n",
    "|b:blue |o:circle|:dotted |\n",
    "|g:green|*:start  |-:dashed|\n",
    "|r:red  |s:square|        | \n",
    "|c:cyan |+:plus  |        |\n",
    "\n",
    "<br>\n",
    "<br>\n",
    "Visualisasi tentang average jumlah masing-masing polutan berdasarkan bulan waktunya.\n"
   ]
  },
  {
   "cell_type": "markdown",
   "metadata": {},
   "source": [
    "[1] Membuat pivot table yang menunjukkan waktu di baris nya dan masing-masing value dari pollutant nya dalam kolom"
   ]
  },
  {
   "cell_type": "code",
   "execution_count": 75,
   "metadata": {},
   "outputs": [
    {
     "name": "stdout",
     "output_type": "stream",
     "text": [
      "Data (5 teratas):\n",
      " pollutant                   bc   co  no2   o3  pm10  pm25  so2\n",
      "timestamp                                                     \n",
      "2014-05-13 03:00:00+00:00  0.0  0.0  0.0  0.0   0.0   9.7  0.0\n",
      "2014-08-12 20:00:00+00:00  0.0  0.0  0.0  0.0   0.0   7.1  0.0\n",
      "2015-04-15 00:00:00+00:00  0.0  0.0  0.0  0.0   0.0  18.1  0.0\n",
      "2015-08-21 01:00:00+00:00  0.0  0.0  0.0  0.0   0.0  36.9  0.0\n",
      "2015-09-13 01:00:00+00:00  0.0  0.0  0.0  0.0   0.0   8.8  0.0\n"
     ]
    }
   ],
   "source": [
    "# Load dataset https://dqlab-dataset.s3-ap-southeast-1.amazonaws.com/LO4/global_air_quality_4000rows.csv\n",
    "gaq = pd.read_csv('https://dqlab-dataset.s3-ap-southeast-1.amazonaws.com/LO4/global_air_quality_4000rows.csv')\n",
    "gaq['timestamp'] = pd.to_datetime(gaq['timestamp'])\n",
    "gaq = gaq.set_index('timestamp')\n",
    "# [1] Membuat pivot table yang menunjukkan waktu di baris nya dan masing-masing value dari pollutant nya dalam kolom\n",
    "gaq_viz = gaq[['pollutant','value']].reset_index().set_index(['timestamp','pollutant'])\n",
    "gaq_viz = gaq_viz.pivot_table(index='timestamp', columns='pollutant', aggfunc='mean').fillna(0)\n",
    "gaq_viz.columns = gaq_viz.columns.droplevel(0)\n",
    "print('Data (5 teratas):\\n', gaq_viz.head())"
   ]
  },
  {
   "cell_type": "markdown",
   "metadata": {},
   "source": [
    "[2] Membuat fungsi yang memberikan default value 0 ketika value nya di bawah 0 dan apply ke setiap elemen dari dataset tersebut, kemudian menampilkannya sebagai chart"
   ]
  },
  {
   "cell_type": "code",
   "execution_count": 76,
   "metadata": {},
   "outputs": [
    {
     "data": {
      "image/png": "[encoded data removed]",
      "text/plain": [
       "<Figure size 720x720 with 7 Axes>"
      ]
     },
     "metadata": {
      "needs_background": "light"
     },
     "output_type": "display_data"
    }
   ],
   "source": [
    "# [2] Membuat fungsi yang memberikan default value 0 ketika value nya di bawah 0 dan apply ke setiap elemen dari dataset tersebut, kemudian menampilkannya sebagai chart\n",
    "def default_val(val):\n",
    " if val < 0:\n",
    "   return 0\n",
    " else:\n",
    "   return val\n",
    "line1 = gaq_viz.resample('M').mean().ffill().applymap(lambda x: default_val(x)).apply(lambda x: x/x.max()) # default value if value < 0 then 0, kemudian menghasilkan % value = value/max(value)\n",
    "line1.plot(\n",
    "   title = 'average value of each pollutant over months',\n",
    "   figsize = (10,10), #ukuran canvas 10px x 10px\n",
    "   ylim = (0, 1.25), #memberikan batas tampilan y-axis hanya 0 sampai 125%\n",
    "   subplots = True #memecah plot menjadi beberapa bagian sesuai dengan jumlah kolom\n",
    ")\n",
    "plt.ylabel('avg pollutant (%)')\n",
    "plt.xlabel('month')\n",
    "plt.show()"
   ]
  },
  {
   "cell_type": "markdown",
   "metadata": {},
   "source": [
    "# Mini Project\n",
    "<br>\n",
    "<br>\n",
    "\n",
    "## Performa Penjualan di Setiap Cabang - Part 1\n",
    "Diberikan 4 csv files yang isinya retail data untuk tiap Quarter:\n",
    "\n",
    "1. csv (data dari bulan January - March)       --> https://dqlab-dataset.s3-ap-southeast-1.amazonaws.com/LO4/retail_data_from_1_until_3.csv\n",
    "2. csv (data dari bulan April - June)              --> https://dqlab-dataset.s3-ap-southeast-1.amazonaws.com/LO4/retail_data_from_4_until_6.csv\n",
    "3. csv (data dari bulan July - September)      --> https://dqlab-dataset.s3-ap-southeast-1.amazonaws.com/LO4/retail_data_from_7_until_9.csv\n",
    "4. csv (data dari bulan October - December)  --> https://dqlab-dataset.s3-ap-southeast-1.amazonaws.com/LO4/retail_data_from_10_until_12.csv\n",
    " \n",
    "\n",
    "Goal: Automation untuk pembuatan grafik dari measurement yang dibutuhkan.\n",
    "\n",
    " \n",
    "\n",
    "Untuk part 1 ini yang perlu dilakukan:\n",
    "\n",
    "[1]. Load masing-masing data *.csv dengan Pandas\n",
    "\n",
    "[2]. Pengecekan dan Transformasi Data \n",
    "\n",
    "- Cek data sekilas (melihat bentuk data biasanya 5 data teratas)\n",
    "- Cek list kolom untuk semua dataframe apakah seluruh kolom dari keempat dataframe yang terpisah itu sama\n",
    "- Jika sama digabungkan.\n",
    "- Cek informasi dataframe yang telah digabungkan\n",
    "- Statistik deskriptif dari dataframe yang telah digabungkan.\n",
    "<br>\n",
    "<b><i>Untuk representasi string gunakan kutip satu, misalnya: 'contoh string'.</i></b>"
   ]
  },
  {
   "cell_type": "code",
   "execution_count": 77,
   "metadata": {},
   "outputs": [
    {
     "name": "stderr",
     "output_type": "stream",
     "text": [
      "C:\\Users\\Personal\\.conda\\envs\\latihanpy\\lib\\site-packages\\IPython\\core\\interactiveshell.py:3146: DtypeWarning: Columns (1) have mixed types.Specify dtype option on import or set low_memory=False.\n",
      "  has_raised = await self.run_ast_nodes(code_ast.body, cell_name,\n"
     ]
    },
    {
     "name": "stdout",
     "output_type": "stream",
     "text": [
      "PENGECEKAN DATA\n",
      "\n",
      "\n",
      "   Unnamed: 0  order_id  order_date  customer_id             city  \\\n",
      "0           0   1612339  2019-01-01        18055  Jakarta Selatan   \n",
      "1           1   1612339  2019-01-01        18055  Jakarta Selatan   \n",
      "2           2   1612339  2019-01-01        18055  Jakarta Selatan   \n",
      "3           3   1612339  2019-01-01        18055  Jakarta Selatan   \n",
      "4           4   1612339  2019-01-01        18055  Jakarta Selatan   \n",
      "\n",
      "      province product_id    brand  quantity  item_price  total_price  \n",
      "0  DKI Jakarta      P0648  BRAND_C         4     1934000      7736000  \n",
      "1  DKI Jakarta      P3826  BRAND_V         8      604000      4832000  \n",
      "2  DKI Jakarta      P1508  BRAND_G        12      747000      8964000  \n",
      "3  DKI Jakarta      P0520  BRAND_B        12      450000      5400000  \n",
      "4  DKI Jakarta      P1513  BRAND_G         3     1500000      4500000  \n"
     ]
    }
   ],
   "source": [
    "# [1]. Load masing-masing data dengan pandas\n",
    "retail_data1 = pd.read_csv('https://dqlab-dataset.s3-ap-southeast-1.amazonaws.com/LO4/retail_data_from_1_until_3.csv')\n",
    "retail_data2 = pd.read_csv('https://dqlab-dataset.s3-ap-southeast-1.amazonaws.com/LO4/retail_data_from_4_until_6.csv')\n",
    "retail_data3 = pd.read_csv('https://dqlab-dataset.s3-ap-southeast-1.amazonaws.com/LO4/retail_data_from_7_until_9.csv')\n",
    "retail_data4 = pd.read_csv('https://dqlab-dataset.s3-ap-southeast-1.amazonaws.com/LO4/retail_data_from_10_until_12.csv')\n",
    "\n",
    "# [2]. Pengecekan Data\n",
    "print('PENGECEKAN DATA\\n\\n')\n",
    "#      Cek data sekilas (tampilkan 5 baris teratas)\n",
    "print(retail_data1.head())"
   ]
  },
  {
   "cell_type": "code",
   "execution_count": 78,
   "metadata": {},
   "outputs": [
    {
     "name": "stdout",
     "output_type": "stream",
     "text": [
      "Kolom retail_data1: Index(['Unnamed: 0', 'order_id', 'order_date', 'customer_id', 'city',\n",
      "       'province', 'product_id', 'brand', 'quantity', 'item_price',\n",
      "       'total_price'],\n",
      "      dtype='object')\n",
      "Kolom retail_data2: Index(['Unnamed: 0', 'order_id', 'order_date', 'customer_id', 'city',\n",
      "       'province', 'product_id', 'brand', 'quantity', 'item_price',\n",
      "       'total_price'],\n",
      "      dtype='object')\n",
      "Kolom retail_data3: Index(['Unnamed: 0', 'order_id', 'order_date', 'customer_id', 'city',\n",
      "       'province', 'product_id', 'brand', 'quantity', 'item_price',\n",
      "       'total_price'],\n",
      "      dtype='object')\n",
      "Kolom retail_data4: Index(['Unnamed: 0', 'order_id', 'order_date', 'customer_id', 'city',\n",
      "       'province', 'product_id', 'brand', 'quantity', 'item_price',\n",
      "       'total_price'],\n",
      "      dtype='object')\n"
     ]
    }
   ],
   "source": [
    "#      Cek list kolom untuk semua dataframe\n",
    "print('Kolom retail_data1: %s' %retail_data1.columns)\n",
    "print('Kolom retail_data2: %s' %retail_data2.columns)\n",
    "print('Kolom retail_data3: %s' %retail_data3.columns)\n",
    "print('Kolom retail_data4: %s' %retail_data4.columns)"
   ]
  },
  {
   "cell_type": "code",
   "execution_count": 79,
   "metadata": {
    "scrolled": true
   },
   "outputs": [
    {
     "name": "stdout",
     "output_type": "stream",
     "text": [
      "\n",
      "Jumlah baris: 508557\n",
      "\n",
      "Info:\n",
      "<class 'pandas.core.frame.DataFrame'>\n",
      "Int64Index: 508557 entries, 0 to 201825\n",
      "Data columns (total 11 columns):\n",
      " #   Column       Non-Null Count   Dtype \n",
      "---  ------       --------------   ----- \n",
      " 0   Unnamed: 0   508557 non-null  int64 \n",
      " 1   order_id     508557 non-null  object\n",
      " 2   order_date   508557 non-null  object\n",
      " 3   customer_id  508557 non-null  int64 \n",
      " 4   city         508557 non-null  object\n",
      " 5   province     508557 non-null  object\n",
      " 6   product_id   508557 non-null  object\n",
      " 7   brand        508557 non-null  object\n",
      " 8   quantity     508557 non-null  int64 \n",
      " 9   item_price   508557 non-null  int64 \n",
      " 10  total_price  508557 non-null  int64 \n",
      "dtypes: int64(5), object(6)\n",
      "memory usage: 46.6+ MB\n",
      "None\n",
      "\n",
      "Statistik deskriptif:\n",
      "           Unnamed: 0    customer_id       quantity    item_price   total_price\n",
      "count  508557.000000  508557.000000  508557.000000  5.085570e+05  5.085570e+05\n",
      "mean    71004.479982   11509.957582      10.571326  1.357347e+06  7.043305e+06\n",
      "std     49737.328863    6758.489806     112.805119  1.481544e+07  5.135112e+07\n",
      "min         0.000000       0.000000       1.000000 -3.871709e+09 -3.871709e+09\n",
      "25%     31784.000000   12370.000000       1.000000  4.500000e+05  1.356000e+06\n",
      "50%     63569.000000   14388.000000       4.000000  7.400000e+05  3.498000e+06\n",
      "75%     95509.000000   16261.000000      11.000000  1.458000e+06  6.270000e+06\n",
      "max    201825.000000   18287.000000   74215.000000  4.739478e+09  2.790484e+10\n"
     ]
    }
   ],
   "source": [
    "#      Concat multiple dataframe menjadi 1 dataframe\n",
    "retail_table = pd.concat([retail_data1, retail_data2, retail_data3, retail_data4])\n",
    "print('\\nJumlah baris:', retail_table.shape[0])\n",
    "#      Pengecekan dataframe info\n",
    "print('\\nInfo:')\n",
    "print(retail_table.info())\n",
    "#      Pengecekan statistik deskriptif\n",
    "print('\\nStatistik deskriptif:\\n', retail_table.describe())"
   ]
  },
  {
   "cell_type": "markdown",
   "metadata": {},
   "source": [
    "## Performa Penjualan di setiap Cabang - Part 2\n",
    "Melanjutkan penyelesaian persoalan ke langkah berikutnya\n",
    "\n",
    "[3] Transformasi Data \n",
    "\n",
    "- Jika ada data yang tidak seharusnya maka dapat dibuang\n",
    "- Jika ada kolom yang seharusnya bertipe datetime64 ubahlah\n",
    "- Cek kembali informasi dataframe \n",
    "- Tampilkan kembali statistik deskriptif dari dataframe\n",
    "<br>\n",
    "<b>Untuk representasi string gunakan kutip satu, misalnya: 'contoh string'.</b<"
   ]
  },
  {
   "cell_type": "code",
   "execution_count": 92,
   "metadata": {},
   "outputs": [
    {
     "name": "stdout",
     "output_type": "stream",
     "text": [
      "TRANSFORMASI DATA\n",
      "\n",
      "\n",
      "\n",
      "item_price < 0 atau total_price < 0:\n",
      "        Unnamed: 0   order_id  order_date  customer_id     city province  \\\n",
      "83664       83664  undefined  2019-09-06            0  unknown  unknown   \n",
      "83665       83665  undefined  2019-09-06            0  unknown  unknown   \n",
      "\n",
      "      product_id    brand  quantity  item_price  total_price  \n",
      "83664      P0153  BRAND_A         1 -3871709000  -3871709000  \n",
      "83665      P0153  BRAND_A         1 -3871709000  -3871709000  \n",
      "\n",
      "order_id yang bernilai undefined:\n",
      "        Unnamed: 0   order_id  order_date  customer_id     city province  \\\n",
      "83663       83663  undefined  2019-09-06            0  unknown  unknown   \n",
      "\n",
      "      product_id    brand  quantity  item_price  total_price  \n",
      "83663      P0153  BRAND_A         1  3871733000   3871733000  \n",
      "\n",
      "Info:\n",
      "<class 'pandas.core.frame.DataFrame'>\n",
      "Int64Index: 508554 entries, 0 to 201825\n",
      "Data columns (total 11 columns):\n",
      " #   Column       Non-Null Count   Dtype         \n",
      "---  ------       --------------   -----         \n",
      " 0   Unnamed: 0   508554 non-null  int64         \n",
      " 1   order_id     508554 non-null  int64         \n",
      " 2   order_date   508554 non-null  datetime64[ns]\n",
      " 3   customer_id  508554 non-null  int64         \n",
      " 4   city         508554 non-null  object        \n",
      " 5   province     508554 non-null  object        \n",
      " 6   product_id   508554 non-null  object        \n",
      " 7   brand        508554 non-null  object        \n",
      " 8   quantity     508554 non-null  int64         \n",
      " 9   item_price   508554 non-null  int64         \n",
      " 10  total_price  508554 non-null  int64         \n",
      "dtypes: datetime64[ns](1), int64(6), object(4)\n",
      "memory usage: 46.6+ MB\n",
      "None\n",
      "\n",
      "Statistik deskriptif:\n",
      "           Unnamed: 0      order_id    customer_id       quantity  \\\n",
      "count  508554.000000  5.085540e+05  508554.000000  508554.000000   \n",
      "mean    71004.405302  1.680676e+06   11510.025480      10.571383   \n",
      "std     49737.466061  3.865433e+04    6758.451924     112.805449   \n",
      "min         0.000000  1.612339e+06       0.000000       1.000000   \n",
      "25%     31784.000000  1.646143e+06   12370.000000       1.000000   \n",
      "50%     63569.000000  1.682617e+06   14388.000000       4.000000   \n",
      "75%     95509.750000  1.714960e+06   16261.000000      11.000000   \n",
      "max    201825.000000  1.742998e+06   18287.000000   74215.000000   \n",
      "\n",
      "         item_price   total_price  \n",
      "count  5.085540e+05  5.085540e+05  \n",
      "mean   1.364968e+06  7.050960e+06  \n",
      "std    1.144767e+07  5.048185e+07  \n",
      "min    1.200000e+04  1.200000e+04  \n",
      "25%    4.500000e+05  1.356000e+06  \n",
      "50%    7.400000e+05  3.498000e+06  \n",
      "75%    1.458000e+06  6.270000e+06  \n",
      "max    4.739478e+09  2.790484e+10  \n"
     ]
    }
   ],
   "source": [
    "# [3]. Transformasi Data\n",
    "print('TRANSFORMASI DATA\\n\\n')\n",
    "# Memastikan data yang memiliki item_price < 0 atau total_price < 0\n",
    "cek = retail_table.loc[(retail_table['item_price'] < 0) | (retail_table['total_price'] < 0)]\n",
    "print('\\nitem_price < 0 atau total_price < 0:\\n', cek)\n",
    "# Jika tidak masuk akal datanya dapat dibuang\n",
    "if cek.shape[0] != 0: \n",
    "    retail_table = retail_table.loc[(retail_table['item_price'] > 0) & (retail_table['total_price'] > 0)]\n",
    "# Cek apakah masih ada order_id yang bernilai undefined dan delete row tersebut\n",
    "cek = retail_table.loc[retail_table['order_id'] == 'undefined']\n",
    "print('\\norder_id yang bernilai undefined:\\n', cek)\n",
    "# Jika ada maka buang baris tersebut\n",
    "if cek.shape[0] != 0:\n",
    "    retail_table = retail_table.loc[retail_table['order_id'] != 'undefined']\n",
    "\n",
    "# Transform order_id menjadi int64\n",
    "retail_table['order_id'] = retail_table['order_id'].astype('int64')\n",
    "#      Transform order_date menjadi datetime Pandas\n",
    "retail_table['order_date'] = pd.to_datetime(retail_table['order_date'])\n",
    "#      Cek dataframe info kembali untuk memastikan\n",
    "print('\\nInfo:')\n",
    "print(retail_table.info())\n",
    "#      Cek statistik deskriptif kembali, untuk memastikan\n",
    "print('\\nStatistik deskriptif:\\n', retail_table.describe())"
   ]
  },
  {
   "cell_type": "markdown",
   "metadata": {},
   "source": [
    "## Performa Penjualan di setiap Cabang - Part 3\n",
    "Mari lanjutkan ke langkah berikutnya\n",
    "\n",
    "[4]. Filter province yang hanya termasuk 5 provinsi besar di Jawa (DKI Jakarta, Jawa Barat, Jawa Tengah, Jawa Timur, dan Yogyakarta)\n",
    "<br>\n",
    "<br>\n",
    "[5]. Mengelompokkan data berdasarkan order_date dan province yang sudah difilter dan menghitung order unique count, customer unique count, product unique count, brand unique count, dan GMV (Gross Merchandise Volume = total_price untuk semua penjualan)\n",
    "<br>\n",
    "<br>\n",
    "[6]. Melakukan unstack untuk mendapatkan order_date di bagian baris dan province di bagian column\n",
    "<br>\n",
    "<br>\n",
    "<br>\n",
    "<b>Untuk string direpresentasikan dengan kutip satu, misalnya 'contoh string'.</b>"
   ]
  },
  {
   "cell_type": "code",
   "execution_count": 98,
   "metadata": {},
   "outputs": [
    {
     "name": "stdout",
     "output_type": "stream",
     "text": [
      "\n",
      "FILTER 5 PROVINCE TERBESAR DI PULAU JAWA\n",
      "\n",
      "['DKI Jakarta' 'Jawa Barat' 'Jawa Timur' 'Yogyakarta' 'Jawa Tengah']\n",
      "\n",
      "groupby_city_province (10 data teratas):\n",
      "                         order  customer  product  brand         GMV\n",
      "order_date province                                                \n",
      "2019-01-01 DKI Jakarta     34        33      328     22  4717083000\n",
      "           Jawa Barat      11         9      136     18  1557289000\n",
      "           Jawa Tengah      4         4      116     20   352052000\n",
      "           Jawa Timur       6         6       83     15  1106603000\n",
      "           Yogyakarta       7         4       88     16  9454007000\n",
      "2019-01-02 DKI Jakarta     58        50      590     25  6218886000\n",
      "           Jawa Barat      17        14      246     21  1458207000\n",
      "           Jawa Tengah      8         7       67     18   968273000\n",
      "           Jawa Timur       6         6       69     17   901676000\n",
      "           Yogyakarta      12        12      238     23  1509057000\n",
      "\n",
      "unstack_city_province (5 data teratas):\n",
      "                  order                                               \\\n",
      "province   DKI Jakarta Jawa Barat Jawa Tengah Jawa Timur Yogyakarta   \n",
      "order_date                                                            \n",
      "2019-01-01        34.0       11.0         4.0        6.0        7.0   \n",
      "2019-01-02        58.0       17.0         8.0        6.0       12.0   \n",
      "2019-01-03        43.0       13.0         8.0        8.0       10.0   \n",
      "2019-01-04        39.0        9.0        11.0        2.0        3.0   \n",
      "2019-01-06        22.0        9.0         3.0        4.0        2.0   \n",
      "\n",
      "              customer                                               ...  \\\n",
      "province   DKI Jakarta Jawa Barat Jawa Tengah Jawa Timur Yogyakarta  ...   \n",
      "order_date                                                           ...   \n",
      "2019-01-01        33.0        9.0         4.0        6.0        4.0  ...   \n",
      "2019-01-02        50.0       14.0         7.0        6.0       12.0  ...   \n",
      "2019-01-03        40.0       13.0         7.0        6.0        9.0  ...   \n",
      "2019-01-04        25.0        7.0         9.0        2.0        3.0  ...   \n",
      "2019-01-06        22.0        9.0         3.0        3.0        2.0  ...   \n",
      "\n",
      "                 brand                                               \\\n",
      "province   DKI Jakarta Jawa Barat Jawa Tengah Jawa Timur Yogyakarta   \n",
      "order_date                                                            \n",
      "2019-01-01        22.0       18.0        20.0       15.0       16.0   \n",
      "2019-01-02        25.0       21.0        18.0       17.0       23.0   \n",
      "2019-01-03        23.0       22.0        18.0       18.0       23.0   \n",
      "2019-01-04        24.0       18.0        17.0       14.0       19.0   \n",
      "2019-01-06        25.0       23.0        10.0       19.0       12.0   \n",
      "\n",
      "                     GMV                                           \\\n",
      "province     DKI Jakarta    Jawa Barat  Jawa Tengah    Jawa Timur   \n",
      "order_date                                                          \n",
      "2019-01-01  4.717083e+09  1.557289e+09  352052000.0  1.106603e+09   \n",
      "2019-01-02  6.218886e+09  1.458207e+09  968273000.0  9.016760e+08   \n",
      "2019-01-03  4.670172e+09  1.797040e+09  663258000.0  1.189519e+09   \n",
      "2019-01-04  6.724529e+09  1.805267e+09  710456000.0  2.418780e+08   \n",
      "2019-01-06  2.483318e+09  1.558771e+09  308975000.0  2.157180e+08   \n",
      "\n",
      "                          \n",
      "province      Yogyakarta  \n",
      "order_date                \n",
      "2019-01-01  9.454007e+09  \n",
      "2019-01-02  1.509057e+09  \n",
      "2019-01-03  1.582902e+09  \n",
      "2019-01-04  5.945680e+08  \n",
      "2019-01-06  1.221680e+08  \n",
      "\n",
      "[5 rows x 25 columns]\n"
     ]
    }
   ],
   "source": [
    "# [4]. Filter hanya 5 province terbesar di pulau Jawa\n",
    "print('\\nFILTER 5 PROVINCE TERBESAR DI PULAU JAWA\\n')\n",
    "java = ['DKI Jakarta','Jawa Barat','Jawa Tengah','Jawa Timur','Yogyakarta']\n",
    "retail_table = retail_table.loc[retail_table['province'].isin(java)]\n",
    "#      Untuk memastikan kolom provinsi isinya sudah sama dengan java\n",
    "print(retail_table['province'].unique())\n",
    "\n",
    "# [5]. Kelompokkan sesuai dengan order_date dan province kemudian aggregasikan\n",
    "groupby_city_province = retail_table.groupby(['order_date','province']).agg({\n",
    "   'order_id': 'nunique',\n",
    "   'customer_id': 'nunique',\n",
    "   'product_id': 'nunique',\n",
    "   'brand': 'nunique',\n",
    "   'total_price': sum\n",
    "})\n",
    "#      Ubah nama kolomnya menjadi 'order','customer','product','brand','GMV'\n",
    "groupby_city_province.columns = ['order','customer','product','brand','GMV']\n",
    "print('\\ngroupby_city_province (10 data teratas):\\n', groupby_city_province.head(10))\n",
    "\n",
    "# [6]. Unstack untuk mendapatkan order_date di bagian baris dan province di bagian column\n",
    "unstack_city_province = groupby_city_province.unstack('province').fillna(0)\n",
    "print('\\nunstack_city_province (5 data teratas):\\n', unstack_city_province.head())"
   ]
  },
  {
   "cell_type": "markdown",
   "metadata": {},
   "source": [
    "## Performa Penjualan di setiap Cabang - Part 4\n",
    "Ayo lanjutkan ke langkah berikutnya:\n",
    "\n",
    "[7]. Slicing data untuk masing-masing measurement (kolom), misal: kolom order\n",
    "\n",
    "[8]. Lakukan resampling pada data tersebut untuk dilakukan perhitungan secara bulanan"
   ]
  },
  {
   "cell_type": "code",
   "execution_count": 99,
   "metadata": {},
   "outputs": [
    {
     "name": "stdout",
     "output_type": "stream",
     "text": [
      "\n",
      "by order (5 data teratas):\n",
      " province    DKI Jakarta  Jawa Barat  Jawa Tengah  Jawa Timur  Yogyakarta\n",
      "order_date                                                              \n",
      "2019-01-01         34.0        11.0          4.0         6.0         7.0\n",
      "2019-01-02         58.0        17.0          8.0         6.0        12.0\n",
      "2019-01-03         43.0        13.0          8.0         8.0        10.0\n",
      "2019-01-04         39.0         9.0         11.0         2.0         3.0\n",
      "2019-01-06         22.0         9.0          3.0         4.0         2.0\n",
      "\n",
      "by_order_monthly_mean (5 data teratas):\n",
      " province    DKI Jakarta  Jawa Barat  Jawa Tengah  Jawa Timur  Yogyakarta\n",
      "order_date                                                              \n",
      "2019-01-31    27.222222   10.500000     5.111111    3.500000    4.555556\n",
      "2019-02-28    19.083333    7.458333     3.250000    3.208333    2.833333\n",
      "2019-03-31    18.576923    6.615385     3.615385    3.192308    3.038462\n",
      "2019-04-30    22.923077    8.000000     4.038462    3.730769    3.807692\n",
      "2019-05-31    27.318182    9.181818     4.318182    5.181818    5.000000\n"
     ]
    }
   ],
   "source": [
    "\n",
    "# [7]. Slicing data untuk masing-masing measurement, misal: order\n",
    "idx = pd.IndexSlice\n",
    "by_order = unstack_city_province.loc[:,idx['order']]\n",
    "print('\\nby order (5 data teratas):\\n', by_order.head())\n",
    "\n",
    "# [8]. Lakukan resampling pada data tersebut untuk dilakukan perhitungan rata-rata bulanan\n",
    "by_order_monthly_mean = by_order.resample('M').mean()\n",
    "print('\\nby_order_monthly_mean (5 data teratas):\\n', by_order_monthly_mean.head())"
   ]
  },
  {
   "cell_type": "markdown",
   "metadata": {},
   "source": [
    "## Performa Penjualan di setiap Cabang - Part 5\n",
    "Sekarang dilanjutkan untuk langkah #[9] yaitu menampilkan grafik dari langkah #[8] yang telah dilakukan.\n",
    "<br>\n",
    "<br>\n",
    "[9]. Plot untuk hasil pada langkah #[8]"
   ]
  },
  {
   "cell_type": "code",
   "execution_count": 101,
   "metadata": {},
   "outputs": [
    {
     "data": {
      "image/png": "[encoded data removed]",
      "text/plain": [
       "<Figure size 576x360 with 1 Axes>"
      ]
     },
     "metadata": {
      "needs_background": "light"
     },
     "output_type": "display_data"
    }
   ],
   "source": [
    "# [9]. Plot untuk hasil pada langkah #[8]\n",
    "by_order_monthly_mean.plot(\n",
    "   figsize = (8,5),\n",
    "   title = 'Average Daily order Size in Month View for All Province'\n",
    ")\n",
    "plt.ylabel('avg order size')\n",
    "plt.xlabel('month')\n",
    "plt.show()"
   ]
  },
  {
   "cell_type": "markdown",
   "metadata": {},
   "source": [
    "## Performa Penjualan di setiap Cabang - Part 6\n",
    "Langah 7 s/d 9 yang telah dilakukan baru untuk satu measurement yaitu order. Berarti ada empat kali lagi kode seperti ini harus dibuat. Karena struktur code masih sama, dapat menggunakan perulangan sesuai dengan jumlah measurement yaitu 5, sehingga kelima measurement dapat ditampilkan grafiknya dalam satu canvas figure.\n",
    "\n",
    "Mari memulai dengan membuat sebuah perulangan dengan dataframe unstack_city_province yang digunakan (hasil dari langkah ke 5 di part 2)."
   ]
  },
  {
   "cell_type": "code",
   "execution_count": 103,
   "metadata": {},
   "outputs": [
    {
     "data": {
      "image/png": "[encoded data removed]",
      "text/plain": [
       "<Figure size 576x1800 with 5 Axes>"
      ]
     },
     "metadata": {
      "needs_background": "light"
     },
     "output_type": "display_data"
    }
   ],
   "source": [
    "# Create figure canvas dan axes for 5 line plots\n",
    "fig, axes = plt.subplots(5, 1, figsize=(8, 25))\n",
    "\n",
    "# Slicing index\n",
    "idx = pd.IndexSlice\n",
    "for i, measurement in enumerate(groupby_city_province.columns):\n",
    "    # Slicing data untuk masing-masing measurement\n",
    "    by_measurement = unstack_city_province.loc[:,idx[measurement]]\n",
    "    # Lakukan resampling pada data tersebut untuk dilakukan perhitungan rata-rata bulanan \n",
    "    by_measurement_monthly_mean = by_measurement.resample('M').mean()\n",
    "    # Plot by_measurement_monthly_mean\n",
    "    by_measurement_monthly_mean.plot(\n",
    "        title = 'Average Daily ' + measurement + ' Size in Month View for all Province',\n",
    "        ax = axes[i]\n",
    "    )\n",
    "    axes[i].set_ylabel('avg ' + measurement + ' size')\n",
    "    axes[i].set_xlabel('month')\n",
    "\n",
    "# Adjust the layout and show the plot\n",
    "plt.tight_layout()\n",
    "plt.show()"
   ]
  }
 ],
 "metadata": {
  "kernelspec": {
   "display_name": "Python 3",
   "language": "python",
   "name": "python3"
  },
  "language_info": {
   "codemirror_mode": {
    "name": "ipython",
    "version": 3
   },
   "file_extension": ".py",
   "mimetype": "text/x-python",
   "name": "python",
   "nbconvert_exporter": "python",
   "pygments_lexer": "ipython3",
   "version": "3.8.5"
  }
 },
 "nbformat": 4,
 "nbformat_minor": 4
}
